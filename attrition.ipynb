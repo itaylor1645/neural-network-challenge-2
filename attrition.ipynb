{
  "cells": [
    {
      "cell_type": "markdown",
      "metadata": {
        "id": "alIIEHibGc3M"
      },
      "source": [
        "## Part 1: Preprocessing"
      ]
    },
    {
      "cell_type": "code",
      "execution_count": 136,
      "metadata": {
        "colab": {
          "base_uri": "https://localhost:8080/",
          "height": 325
        },
        "id": "6eDUJ4NtGc3P",
        "outputId": "2480098c-135c-4cbf-9552-018494ee8ff5"
      },
      "outputs": [
        {
          "data": {
            "text/html": [
              "<div>\n",
              "<style scoped>\n",
              "    .dataframe tbody tr th:only-of-type {\n",
              "        vertical-align: middle;\n",
              "    }\n",
              "\n",
              "    .dataframe tbody tr th {\n",
              "        vertical-align: top;\n",
              "    }\n",
              "\n",
              "    .dataframe thead th {\n",
              "        text-align: right;\n",
              "    }\n",
              "</style>\n",
              "<table border=\"1\" class=\"dataframe\">\n",
              "  <thead>\n",
              "    <tr style=\"text-align: right;\">\n",
              "      <th></th>\n",
              "      <th>Age</th>\n",
              "      <th>Attrition</th>\n",
              "      <th>BusinessTravel</th>\n",
              "      <th>Department</th>\n",
              "      <th>DistanceFromHome</th>\n",
              "      <th>Education</th>\n",
              "      <th>EducationField</th>\n",
              "      <th>EnvironmentSatisfaction</th>\n",
              "      <th>HourlyRate</th>\n",
              "      <th>JobInvolvement</th>\n",
              "      <th>...</th>\n",
              "      <th>PerformanceRating</th>\n",
              "      <th>RelationshipSatisfaction</th>\n",
              "      <th>StockOptionLevel</th>\n",
              "      <th>TotalWorkingYears</th>\n",
              "      <th>TrainingTimesLastYear</th>\n",
              "      <th>WorkLifeBalance</th>\n",
              "      <th>YearsAtCompany</th>\n",
              "      <th>YearsInCurrentRole</th>\n",
              "      <th>YearsSinceLastPromotion</th>\n",
              "      <th>YearsWithCurrManager</th>\n",
              "    </tr>\n",
              "  </thead>\n",
              "  <tbody>\n",
              "    <tr>\n",
              "      <th>0</th>\n",
              "      <td>41</td>\n",
              "      <td>Yes</td>\n",
              "      <td>Travel_Rarely</td>\n",
              "      <td>Sales</td>\n",
              "      <td>1</td>\n",
              "      <td>2</td>\n",
              "      <td>Life Sciences</td>\n",
              "      <td>2</td>\n",
              "      <td>94</td>\n",
              "      <td>3</td>\n",
              "      <td>...</td>\n",
              "      <td>3</td>\n",
              "      <td>1</td>\n",
              "      <td>0</td>\n",
              "      <td>8</td>\n",
              "      <td>0</td>\n",
              "      <td>1</td>\n",
              "      <td>6</td>\n",
              "      <td>4</td>\n",
              "      <td>0</td>\n",
              "      <td>5</td>\n",
              "    </tr>\n",
              "    <tr>\n",
              "      <th>1</th>\n",
              "      <td>49</td>\n",
              "      <td>No</td>\n",
              "      <td>Travel_Frequently</td>\n",
              "      <td>Research &amp; Development</td>\n",
              "      <td>8</td>\n",
              "      <td>1</td>\n",
              "      <td>Life Sciences</td>\n",
              "      <td>3</td>\n",
              "      <td>61</td>\n",
              "      <td>2</td>\n",
              "      <td>...</td>\n",
              "      <td>4</td>\n",
              "      <td>4</td>\n",
              "      <td>1</td>\n",
              "      <td>10</td>\n",
              "      <td>3</td>\n",
              "      <td>3</td>\n",
              "      <td>10</td>\n",
              "      <td>7</td>\n",
              "      <td>1</td>\n",
              "      <td>7</td>\n",
              "    </tr>\n",
              "    <tr>\n",
              "      <th>2</th>\n",
              "      <td>37</td>\n",
              "      <td>Yes</td>\n",
              "      <td>Travel_Rarely</td>\n",
              "      <td>Research &amp; Development</td>\n",
              "      <td>2</td>\n",
              "      <td>2</td>\n",
              "      <td>Other</td>\n",
              "      <td>4</td>\n",
              "      <td>92</td>\n",
              "      <td>2</td>\n",
              "      <td>...</td>\n",
              "      <td>3</td>\n",
              "      <td>2</td>\n",
              "      <td>0</td>\n",
              "      <td>7</td>\n",
              "      <td>3</td>\n",
              "      <td>3</td>\n",
              "      <td>0</td>\n",
              "      <td>0</td>\n",
              "      <td>0</td>\n",
              "      <td>0</td>\n",
              "    </tr>\n",
              "    <tr>\n",
              "      <th>3</th>\n",
              "      <td>33</td>\n",
              "      <td>No</td>\n",
              "      <td>Travel_Frequently</td>\n",
              "      <td>Research &amp; Development</td>\n",
              "      <td>3</td>\n",
              "      <td>4</td>\n",
              "      <td>Life Sciences</td>\n",
              "      <td>4</td>\n",
              "      <td>56</td>\n",
              "      <td>3</td>\n",
              "      <td>...</td>\n",
              "      <td>3</td>\n",
              "      <td>3</td>\n",
              "      <td>0</td>\n",
              "      <td>8</td>\n",
              "      <td>3</td>\n",
              "      <td>3</td>\n",
              "      <td>8</td>\n",
              "      <td>7</td>\n",
              "      <td>3</td>\n",
              "      <td>0</td>\n",
              "    </tr>\n",
              "    <tr>\n",
              "      <th>4</th>\n",
              "      <td>27</td>\n",
              "      <td>No</td>\n",
              "      <td>Travel_Rarely</td>\n",
              "      <td>Research &amp; Development</td>\n",
              "      <td>2</td>\n",
              "      <td>1</td>\n",
              "      <td>Medical</td>\n",
              "      <td>1</td>\n",
              "      <td>40</td>\n",
              "      <td>3</td>\n",
              "      <td>...</td>\n",
              "      <td>3</td>\n",
              "      <td>4</td>\n",
              "      <td>1</td>\n",
              "      <td>6</td>\n",
              "      <td>3</td>\n",
              "      <td>3</td>\n",
              "      <td>2</td>\n",
              "      <td>2</td>\n",
              "      <td>2</td>\n",
              "      <td>2</td>\n",
              "    </tr>\n",
              "  </tbody>\n",
              "</table>\n",
              "<p>5 rows × 27 columns</p>\n",
              "</div>"
            ],
            "text/plain": [
              "   Age Attrition     BusinessTravel              Department  DistanceFromHome  \\\n",
              "0   41       Yes      Travel_Rarely                   Sales                 1   \n",
              "1   49        No  Travel_Frequently  Research & Development                 8   \n",
              "2   37       Yes      Travel_Rarely  Research & Development                 2   \n",
              "3   33        No  Travel_Frequently  Research & Development                 3   \n",
              "4   27        No      Travel_Rarely  Research & Development                 2   \n",
              "\n",
              "   Education EducationField  EnvironmentSatisfaction  HourlyRate  \\\n",
              "0          2  Life Sciences                        2          94   \n",
              "1          1  Life Sciences                        3          61   \n",
              "2          2          Other                        4          92   \n",
              "3          4  Life Sciences                        4          56   \n",
              "4          1        Medical                        1          40   \n",
              "\n",
              "   JobInvolvement  ...  PerformanceRating RelationshipSatisfaction  \\\n",
              "0               3  ...                  3                        1   \n",
              "1               2  ...                  4                        4   \n",
              "2               2  ...                  3                        2   \n",
              "3               3  ...                  3                        3   \n",
              "4               3  ...                  3                        4   \n",
              "\n",
              "   StockOptionLevel TotalWorkingYears  TrainingTimesLastYear WorkLifeBalance  \\\n",
              "0                 0                 8                      0               1   \n",
              "1                 1                10                      3               3   \n",
              "2                 0                 7                      3               3   \n",
              "3                 0                 8                      3               3   \n",
              "4                 1                 6                      3               3   \n",
              "\n",
              "   YearsAtCompany  YearsInCurrentRole  YearsSinceLastPromotion  \\\n",
              "0               6                   4                        0   \n",
              "1              10                   7                        1   \n",
              "2               0                   0                        0   \n",
              "3               8                   7                        3   \n",
              "4               2                   2                        2   \n",
              "\n",
              "   YearsWithCurrManager  \n",
              "0                     5  \n",
              "1                     7  \n",
              "2                     0  \n",
              "3                     0  \n",
              "4                     2  \n",
              "\n",
              "[5 rows x 27 columns]"
            ]
          },
          "execution_count": 136,
          "metadata": {},
          "output_type": "execute_result"
        }
      ],
      "source": [
        "# Import our dependencies\n",
        "from sklearn.model_selection import train_test_split\n",
        "from sklearn.preprocessing import StandardScaler\n",
        "import pandas as pd\n",
        "import numpy as np\n",
        "from tensorflow.keras.models import Model\n",
        "from tensorflow.keras import layers\n",
        "\n",
        "#  Import and read the attrition data\n",
        "attrition_df = pd.read_csv('https://static.bc-edx.com/ai/ail-v-1-0/m19/lms/datasets/attrition.csv')\n",
        "attrition_df.head()"
      ]
    },
    {
      "cell_type": "code",
      "execution_count": 137,
      "metadata": {
        "colab": {
          "base_uri": "https://localhost:8080/"
        },
        "id": "g22aQSY4Gc3Q",
        "outputId": "1f5c13c1-b981-4e40-a7ed-dd3fe6f1b81e"
      },
      "outputs": [
        {
          "data": {
            "text/plain": [
              "Age                         43\n",
              "Attrition                    2\n",
              "BusinessTravel               3\n",
              "Department                   3\n",
              "DistanceFromHome            29\n",
              "Education                    5\n",
              "EducationField               6\n",
              "EnvironmentSatisfaction      4\n",
              "HourlyRate                  71\n",
              "JobInvolvement               4\n",
              "JobLevel                     5\n",
              "JobRole                      9\n",
              "JobSatisfaction              4\n",
              "MaritalStatus                3\n",
              "NumCompaniesWorked          10\n",
              "OverTime                     2\n",
              "PercentSalaryHike           15\n",
              "PerformanceRating            2\n",
              "RelationshipSatisfaction     4\n",
              "StockOptionLevel             4\n",
              "TotalWorkingYears           40\n",
              "TrainingTimesLastYear        7\n",
              "WorkLifeBalance              4\n",
              "YearsAtCompany              37\n",
              "YearsInCurrentRole          19\n",
              "YearsSinceLastPromotion     16\n",
              "YearsWithCurrManager        18\n",
              "dtype: int64"
            ]
          },
          "execution_count": 137,
          "metadata": {},
          "output_type": "execute_result"
        }
      ],
      "source": [
        "# Determine the number of unique values in each column.\n",
        "attrition_df.nunique()"
      ]
    },
    {
      "cell_type": "code",
      "execution_count": 138,
      "metadata": {},
      "outputs": [],
      "source": [
        "#Create a copy of the df for backup\n",
        "attrition_df_backup = attrition_df.copy()"
      ]
    },
    {
      "cell_type": "code",
      "execution_count": 139,
      "metadata": {
        "id": "50vMgBEnJbfM"
      },
      "outputs": [],
      "source": [
        "# Create y_df with the Attrition and Department columns\n",
        "y_df = attrition_df[['Attrition', 'Department']]"
      ]
    },
    {
      "cell_type": "code",
      "execution_count": 140,
      "metadata": {},
      "outputs": [
        {
          "name": "stdout",
          "output_type": "stream",
          "text": [
            "['Sales' 'Research & Development' 'Human Resources']\n"
          ]
        }
      ],
      "source": [
        "unique_departments = y_df['Department'].unique()\n",
        "\n",
        "# Display the unique values\n",
        "print(unique_departments)"
      ]
    },
    {
      "cell_type": "code",
      "execution_count": 141,
      "metadata": {
        "colab": {
          "base_uri": "https://localhost:8080/"
        },
        "id": "Virka0zLGc3R",
        "outputId": "dd5aee3a-9458-4ba6-e857-1b234de40915"
      },
      "outputs": [
        {
          "name": "stdout",
          "output_type": "stream",
          "text": [
            "Education                   int64\n",
            "Age                         int64\n",
            "DistanceFromHome            int64\n",
            "JobSatisfaction             int64\n",
            "OverTime                   object\n",
            "StockOptionLevel            int64\n",
            "WorkLifeBalance             int64\n",
            "YearsAtCompany              int64\n",
            "YearsSinceLastPromotion     int64\n",
            "NumCompaniesWorked          int64\n",
            "dtype: object\n"
          ]
        }
      ],
      "source": [
        "# Create a list of at least 10 column names to use as X data\n",
        "column_names = [\n",
        "    \"Education\",\n",
        "    \"Age\",\n",
        "    \"DistanceFromHome\",\n",
        "    \"JobSatisfaction\",\n",
        "    \"OverTime\",\n",
        "    \"StockOptionLevel\",\n",
        "    \"WorkLifeBalance\",\n",
        "    \"YearsAtCompany\",\n",
        "    \"YearsSinceLastPromotion\",\n",
        "    \"NumCompaniesWorked\"\n",
        "]\n",
        "\n",
        "# Create X_df using your selected columns\n",
        "X_df = attrition_df[column_names]\n",
        "\n",
        "# Show the data types for X_df\n",
        "print(X_df.dtypes)\n"
      ]
    },
    {
      "cell_type": "code",
      "execution_count": 142,
      "metadata": {
        "id": "KaJfdOGUMHMR"
      },
      "outputs": [],
      "source": [
        "# Split the data into training and testing sets\n",
        "from sklearn.model_selection import train_test_split\n",
        "\n",
        "X_train, X_test, y_train, y_test = train_test_split(X_df, y_df, test_size=0.2, random_state=42)\n"
      ]
    },
    {
      "cell_type": "code",
      "execution_count": 143,
      "metadata": {},
      "outputs": [
        {
          "data": {
            "text/html": [
              "<div>\n",
              "<style scoped>\n",
              "    .dataframe tbody tr th:only-of-type {\n",
              "        vertical-align: middle;\n",
              "    }\n",
              "\n",
              "    .dataframe tbody tr th {\n",
              "        vertical-align: top;\n",
              "    }\n",
              "\n",
              "    .dataframe thead th {\n",
              "        text-align: right;\n",
              "    }\n",
              "</style>\n",
              "<table border=\"1\" class=\"dataframe\">\n",
              "  <thead>\n",
              "    <tr style=\"text-align: right;\">\n",
              "      <th></th>\n",
              "      <th>Attrition</th>\n",
              "      <th>Department</th>\n",
              "    </tr>\n",
              "  </thead>\n",
              "  <tbody>\n",
              "    <tr>\n",
              "      <th>1097</th>\n",
              "      <td>No</td>\n",
              "      <td>Research &amp; Development</td>\n",
              "    </tr>\n",
              "    <tr>\n",
              "      <th>727</th>\n",
              "      <td>No</td>\n",
              "      <td>Research &amp; Development</td>\n",
              "    </tr>\n",
              "    <tr>\n",
              "      <th>254</th>\n",
              "      <td>No</td>\n",
              "      <td>Sales</td>\n",
              "    </tr>\n",
              "    <tr>\n",
              "      <th>1175</th>\n",
              "      <td>No</td>\n",
              "      <td>Research &amp; Development</td>\n",
              "    </tr>\n",
              "    <tr>\n",
              "      <th>1341</th>\n",
              "      <td>No</td>\n",
              "      <td>Research &amp; Development</td>\n",
              "    </tr>\n",
              "  </tbody>\n",
              "</table>\n",
              "</div>"
            ],
            "text/plain": [
              "     Attrition              Department\n",
              "1097        No  Research & Development\n",
              "727         No  Research & Development\n",
              "254         No                   Sales\n",
              "1175        No  Research & Development\n",
              "1341        No  Research & Development"
            ]
          },
          "execution_count": 143,
          "metadata": {},
          "output_type": "execute_result"
        }
      ],
      "source": [
        "y_train.head()"
      ]
    },
    {
      "cell_type": "code",
      "execution_count": 164,
      "metadata": {},
      "outputs": [
        {
          "name": "stdout",
          "output_type": "stream",
          "text": [
            "Research & Development    765\n",
            "Sales                     361\n",
            "Human Resources            50\n",
            "Name: Department, dtype: int64\n"
          ]
        }
      ],
      "source": [
        "department_counts = y_train['Department'].value_counts()\n",
        "\n",
        "print(department_counts)"
      ]
    },
    {
      "cell_type": "code",
      "execution_count": 145,
      "metadata": {
        "colab": {
          "base_uri": "https://localhost:8080/"
        },
        "id": "NYubUJqiLCSp",
        "outputId": "53f31721-571c-4c94-d13e-25a715749593"
      },
      "outputs": [
        {
          "name": "stdout",
          "output_type": "stream",
          "text": [
            "Training set OverTime values: [0 1]\n",
            "1097    0\n",
            "727     0\n",
            "254     0\n",
            "1175    0\n",
            "1341    0\n",
            "Name: OverTime, dtype: int64\n",
            "Testing set OverTime values: [0 1]\n",
            "1041    0\n",
            "184     0\n",
            "1222    0\n",
            "67      0\n",
            "220     0\n",
            "Name: OverTime, dtype: int64\n"
          ]
        }
      ],
      "source": [
        "# Convert OverTime column to numeric values in the training set\n",
        "X_train['OverTime'] = X_train['OverTime'].map({'Yes': 1, 'No': 0})\n",
        "\n",
        "# Convert OverTime column to numeric values in the testing set\n",
        "X_test['OverTime'] = X_test['OverTime'].map({'Yes': 1, 'No': 0})\n",
        "\n",
        "# Verify the conversion in the training set\n",
        "print(\"Training set OverTime values:\", X_train['OverTime'].unique())\n",
        "print(X_train['OverTime'].head())\n",
        "\n",
        "# Verify the conversion in the testing set\n",
        "print(\"Testing set OverTime values:\", X_test['OverTime'].unique())\n",
        "print(X_test['OverTime'].head())"
      ]
    },
    {
      "cell_type": "code",
      "execution_count": 146,
      "metadata": {},
      "outputs": [
        {
          "name": "stdout",
          "output_type": "stream",
          "text": [
            "Index(['Attrition', 'Department'], dtype='object')\n",
            "Index(['Attrition', 'Department'], dtype='object')\n"
          ]
        }
      ],
      "source": [
        "print(y_train.columns)\n",
        "print(y_test.columns)"
      ]
    },
    {
      "cell_type": "code",
      "execution_count": 147,
      "metadata": {
        "id": "EWA-aIA5Gc3T"
      },
      "outputs": [
        {
          "name": "stdout",
          "output_type": "stream",
          "text": [
            "Scaled training data:\n",
            "      Education       Age  DistanceFromHome  JobSatisfaction  OverTime  \\\n",
            "1097  -0.863356 -1.388559          1.440396        -1.582336  -0.63641   \n",
            "727   -0.863356 -2.040738         -0.522699         1.152834  -0.63641   \n",
            "254   -0.863356 -0.845077          1.317703         1.152834  -0.63641   \n",
            "1175   0.099933  0.241886          0.336155        -0.670613  -0.63641   \n",
            "1341   0.099933 -0.627685          1.317703         0.241111  -0.63641   \n",
            "\n",
            "      StockOptionLevel  WorkLifeBalance  YearsAtCompany  \\\n",
            "1097          2.547471         0.357435       -0.974263   \n",
            "727          -0.945525         0.357435       -1.138573   \n",
            "254           0.218807         0.357435       -0.645643   \n",
            "1175         -0.945525         0.357435       -0.317023   \n",
            "1341          0.218807         0.357435        0.504527   \n",
            "\n",
            "      YearsSinceLastPromotion  NumCompaniesWorked  \n",
            "1097                -0.676110           -1.059168  \n",
            "727                 -0.676110           -0.659431  \n",
            "254                 -0.676110           -0.259693  \n",
            "1175                -0.355244            0.539781  \n",
            "1341                -0.676110           -0.659431  \n",
            "\n",
            "Scaled testing data:\n",
            "      Education       Age  DistanceFromHome  JobSatisfaction  OverTime  \\\n",
            "1041   0.099933 -0.953774         -0.522699        -1.582336  -0.63641   \n",
            "184   -0.863356  1.763636          0.458849        -1.582336  -0.63641   \n",
            "1222  -1.826644 -1.388559          1.563090         0.241111  -0.63641   \n",
            "67     0.099933  0.894065         -0.277312        -1.582336  -0.63641   \n",
            "220   -0.863356 -0.084203         -0.522699        -0.670613  -0.63641   \n",
            "\n",
            "      StockOptionLevel  WorkLifeBalance  YearsAtCompany  \\\n",
            "1041         -0.945525         0.357435       -0.317023   \n",
            "184           1.383139         0.357435       -0.481333   \n",
            "1222          0.218807         0.357435       -0.974263   \n",
            "67            0.218807         0.357435       -0.974263   \n",
            "220          -0.945525         1.796970        0.997457   \n",
            "\n",
            "      YearsSinceLastPromotion  NumCompaniesWorked  \n",
            "1041                -0.355244           -1.059168  \n",
            "184                 -0.355244           -0.659431  \n",
            "1222                -0.676110           -0.659431  \n",
            "67                  -0.676110           -0.259693  \n",
            "220                  0.286487            2.138731  \n"
          ]
        }
      ],
      "source": [
        "# Create a StandardScaler\n",
        "scaler = StandardScaler()\n",
        "\n",
        "# Fit the StandardScaler to the training data\n",
        "X_train_scaled = scaler.fit_transform(X_train)\n",
        "\n",
        "# Scale the training and testing data\n",
        "X_test_scaled = scaler.transform(X_test)\n",
        "X_train_scaled = pd.DataFrame(X_train_scaled, columns=X_train.columns, index=X_train.index)\n",
        "X_test_scaled = pd.DataFrame(X_test_scaled, columns=X_test.columns, index=X_test.index)\n",
        "\n",
        "#Verify the data was transformed correctly\n",
        "print(\"Scaled training data:\")\n",
        "print(X_train_scaled.head())\n",
        "print(\"\\nScaled testing data:\")\n",
        "print(X_test_scaled.head())"
      ]
    },
    {
      "cell_type": "code",
      "execution_count": 148,
      "metadata": {},
      "outputs": [
        {
          "data": {
            "text/html": [
              "<div>\n",
              "<style scoped>\n",
              "    .dataframe tbody tr th:only-of-type {\n",
              "        vertical-align: middle;\n",
              "    }\n",
              "\n",
              "    .dataframe tbody tr th {\n",
              "        vertical-align: top;\n",
              "    }\n",
              "\n",
              "    .dataframe thead th {\n",
              "        text-align: right;\n",
              "    }\n",
              "</style>\n",
              "<table border=\"1\" class=\"dataframe\">\n",
              "  <thead>\n",
              "    <tr style=\"text-align: right;\">\n",
              "      <th></th>\n",
              "      <th>Attrition</th>\n",
              "      <th>Department</th>\n",
              "    </tr>\n",
              "  </thead>\n",
              "  <tbody>\n",
              "    <tr>\n",
              "      <th>1097</th>\n",
              "      <td>No</td>\n",
              "      <td>Research &amp; Development</td>\n",
              "    </tr>\n",
              "    <tr>\n",
              "      <th>727</th>\n",
              "      <td>No</td>\n",
              "      <td>Research &amp; Development</td>\n",
              "    </tr>\n",
              "    <tr>\n",
              "      <th>254</th>\n",
              "      <td>No</td>\n",
              "      <td>Sales</td>\n",
              "    </tr>\n",
              "    <tr>\n",
              "      <th>1175</th>\n",
              "      <td>No</td>\n",
              "      <td>Research &amp; Development</td>\n",
              "    </tr>\n",
              "    <tr>\n",
              "      <th>1341</th>\n",
              "      <td>No</td>\n",
              "      <td>Research &amp; Development</td>\n",
              "    </tr>\n",
              "  </tbody>\n",
              "</table>\n",
              "</div>"
            ],
            "text/plain": [
              "     Attrition              Department\n",
              "1097        No  Research & Development\n",
              "727         No  Research & Development\n",
              "254         No                   Sales\n",
              "1175        No  Research & Development\n",
              "1341        No  Research & Development"
            ]
          },
          "execution_count": 148,
          "metadata": {},
          "output_type": "execute_result"
        }
      ],
      "source": [
        "y_train.head()"
      ]
    },
    {
      "cell_type": "code",
      "execution_count": 149,
      "metadata": {
        "colab": {
          "base_uri": "https://localhost:8080/"
        },
        "id": "-z0Mky8vQSz4",
        "outputId": "debefc85-c20b-48f5-f4d9-91eadd65d36a"
      },
      "outputs": [
        {
          "data": {
            "text/html": [
              "<div>\n",
              "<style scoped>\n",
              "    .dataframe tbody tr th:only-of-type {\n",
              "        vertical-align: middle;\n",
              "    }\n",
              "\n",
              "    .dataframe tbody tr th {\n",
              "        vertical-align: top;\n",
              "    }\n",
              "\n",
              "    .dataframe thead th {\n",
              "        text-align: right;\n",
              "    }\n",
              "</style>\n",
              "<table border=\"1\" class=\"dataframe\">\n",
              "  <thead>\n",
              "    <tr style=\"text-align: right;\">\n",
              "      <th></th>\n",
              "      <th>Attrition</th>\n",
              "      <th>Department_Research &amp; Development</th>\n",
              "      <th>Department_Sales</th>\n",
              "    </tr>\n",
              "  </thead>\n",
              "  <tbody>\n",
              "    <tr>\n",
              "      <th>0</th>\n",
              "      <td>No</td>\n",
              "      <td>1.0</td>\n",
              "      <td>0.0</td>\n",
              "    </tr>\n",
              "    <tr>\n",
              "      <th>1</th>\n",
              "      <td>No</td>\n",
              "      <td>1.0</td>\n",
              "      <td>0.0</td>\n",
              "    </tr>\n",
              "    <tr>\n",
              "      <th>2</th>\n",
              "      <td>No</td>\n",
              "      <td>0.0</td>\n",
              "      <td>1.0</td>\n",
              "    </tr>\n",
              "    <tr>\n",
              "      <th>3</th>\n",
              "      <td>No</td>\n",
              "      <td>1.0</td>\n",
              "      <td>0.0</td>\n",
              "    </tr>\n",
              "    <tr>\n",
              "      <th>4</th>\n",
              "      <td>No</td>\n",
              "      <td>1.0</td>\n",
              "      <td>0.0</td>\n",
              "    </tr>\n",
              "    <tr>\n",
              "      <th>5</th>\n",
              "      <td>No</td>\n",
              "      <td>0.0</td>\n",
              "      <td>0.0</td>\n",
              "    </tr>\n",
              "    <tr>\n",
              "      <th>6</th>\n",
              "      <td>No</td>\n",
              "      <td>1.0</td>\n",
              "      <td>0.0</td>\n",
              "    </tr>\n",
              "    <tr>\n",
              "      <th>7</th>\n",
              "      <td>No</td>\n",
              "      <td>0.0</td>\n",
              "      <td>0.0</td>\n",
              "    </tr>\n",
              "    <tr>\n",
              "      <th>8</th>\n",
              "      <td>No</td>\n",
              "      <td>0.0</td>\n",
              "      <td>1.0</td>\n",
              "    </tr>\n",
              "    <tr>\n",
              "      <th>9</th>\n",
              "      <td>No</td>\n",
              "      <td>1.0</td>\n",
              "      <td>0.0</td>\n",
              "    </tr>\n",
              "    <tr>\n",
              "      <th>10</th>\n",
              "      <td>No</td>\n",
              "      <td>0.0</td>\n",
              "      <td>1.0</td>\n",
              "    </tr>\n",
              "    <tr>\n",
              "      <th>11</th>\n",
              "      <td>No</td>\n",
              "      <td>0.0</td>\n",
              "      <td>1.0</td>\n",
              "    </tr>\n",
              "    <tr>\n",
              "      <th>12</th>\n",
              "      <td>No</td>\n",
              "      <td>0.0</td>\n",
              "      <td>1.0</td>\n",
              "    </tr>\n",
              "    <tr>\n",
              "      <th>13</th>\n",
              "      <td>No</td>\n",
              "      <td>1.0</td>\n",
              "      <td>0.0</td>\n",
              "    </tr>\n",
              "    <tr>\n",
              "      <th>14</th>\n",
              "      <td>No</td>\n",
              "      <td>0.0</td>\n",
              "      <td>0.0</td>\n",
              "    </tr>\n",
              "    <tr>\n",
              "      <th>15</th>\n",
              "      <td>Yes</td>\n",
              "      <td>1.0</td>\n",
              "      <td>0.0</td>\n",
              "    </tr>\n",
              "    <tr>\n",
              "      <th>16</th>\n",
              "      <td>Yes</td>\n",
              "      <td>0.0</td>\n",
              "      <td>1.0</td>\n",
              "    </tr>\n",
              "    <tr>\n",
              "      <th>17</th>\n",
              "      <td>No</td>\n",
              "      <td>1.0</td>\n",
              "      <td>0.0</td>\n",
              "    </tr>\n",
              "    <tr>\n",
              "      <th>18</th>\n",
              "      <td>No</td>\n",
              "      <td>1.0</td>\n",
              "      <td>0.0</td>\n",
              "    </tr>\n",
              "    <tr>\n",
              "      <th>19</th>\n",
              "      <td>No</td>\n",
              "      <td>0.0</td>\n",
              "      <td>1.0</td>\n",
              "    </tr>\n",
              "  </tbody>\n",
              "</table>\n",
              "</div>"
            ],
            "text/plain": [
              "   Attrition  Department_Research & Development  Department_Sales\n",
              "0         No                                1.0               0.0\n",
              "1         No                                1.0               0.0\n",
              "2         No                                0.0               1.0\n",
              "3         No                                1.0               0.0\n",
              "4         No                                1.0               0.0\n",
              "5         No                                0.0               0.0\n",
              "6         No                                1.0               0.0\n",
              "7         No                                0.0               0.0\n",
              "8         No                                0.0               1.0\n",
              "9         No                                1.0               0.0\n",
              "10        No                                0.0               1.0\n",
              "11        No                                0.0               1.0\n",
              "12        No                                0.0               1.0\n",
              "13        No                                1.0               0.0\n",
              "14        No                                0.0               0.0\n",
              "15       Yes                                1.0               0.0\n",
              "16       Yes                                0.0               1.0\n",
              "17        No                                1.0               0.0\n",
              "18        No                                1.0               0.0\n",
              "19        No                                0.0               1.0"
            ]
          },
          "execution_count": 149,
          "metadata": {},
          "output_type": "execute_result"
        }
      ],
      "source": [
        "from sklearn.preprocessing import LabelEncoder, OneHotEncoder\n",
        "\n",
        "# Create a OneHotEncoder for the Department column\n",
        "encoder = OneHotEncoder(sparse_output=False, drop='first')\n",
        "\n",
        "# Fit the encoder to the training data\n",
        "department_encoded = encoder.fit_transform(y_train[['Department']])\n",
        "\n",
        "# Create two new variables by applying the encoder\n",
        "# to the training and testing data\n",
        "department_encoded_train = encoder.transform(y_train[['Department']])\n",
        "department_encoded_train_df = pd.DataFrame(department_encoded_train, columns=encoder.get_feature_names_out(['Department']))\n",
        "y_train_draft = y_train.drop(columns=['Department']).reset_index(drop=True).join(department_encoded_train_df)\n",
        "\n",
        "department_encoded_test = encoder.transform(y_test[['Department']])\n",
        "department_encoded_test_df = pd.DataFrame(department_encoded_test, columns=encoder.get_feature_names_out(['Department']))\n",
        "y_test_draft= y_test.drop(columns=['Department']).reset_index(drop=True).join(department_encoded_test_df)\n",
        "\n",
        "y_train_draft.head(20)"
      ]
    },
    {
      "cell_type": "code",
      "execution_count": 150,
      "metadata": {},
      "outputs": [
        {
          "data": {
            "text/html": [
              "<div>\n",
              "<style scoped>\n",
              "    .dataframe tbody tr th:only-of-type {\n",
              "        vertical-align: middle;\n",
              "    }\n",
              "\n",
              "    .dataframe tbody tr th {\n",
              "        vertical-align: top;\n",
              "    }\n",
              "\n",
              "    .dataframe thead th {\n",
              "        text-align: right;\n",
              "    }\n",
              "</style>\n",
              "<table border=\"1\" class=\"dataframe\">\n",
              "  <thead>\n",
              "    <tr style=\"text-align: right;\">\n",
              "      <th></th>\n",
              "      <th>Attrition</th>\n",
              "      <th>Department_Research &amp; Development</th>\n",
              "      <th>Department_Sales</th>\n",
              "    </tr>\n",
              "  </thead>\n",
              "  <tbody>\n",
              "    <tr>\n",
              "      <th>0</th>\n",
              "      <td>No</td>\n",
              "      <td>0.0</td>\n",
              "      <td>1.0</td>\n",
              "    </tr>\n",
              "    <tr>\n",
              "      <th>1</th>\n",
              "      <td>No</td>\n",
              "      <td>1.0</td>\n",
              "      <td>0.0</td>\n",
              "    </tr>\n",
              "    <tr>\n",
              "      <th>2</th>\n",
              "      <td>Yes</td>\n",
              "      <td>0.0</td>\n",
              "      <td>0.0</td>\n",
              "    </tr>\n",
              "    <tr>\n",
              "      <th>3</th>\n",
              "      <td>No</td>\n",
              "      <td>1.0</td>\n",
              "      <td>0.0</td>\n",
              "    </tr>\n",
              "    <tr>\n",
              "      <th>4</th>\n",
              "      <td>No</td>\n",
              "      <td>1.0</td>\n",
              "      <td>0.0</td>\n",
              "    </tr>\n",
              "  </tbody>\n",
              "</table>\n",
              "</div>"
            ],
            "text/plain": [
              "  Attrition  Department_Research & Development  Department_Sales\n",
              "0        No                                0.0               1.0\n",
              "1        No                                1.0               0.0\n",
              "2       Yes                                0.0               0.0\n",
              "3        No                                1.0               0.0\n",
              "4        No                                1.0               0.0"
            ]
          },
          "execution_count": 150,
          "metadata": {},
          "output_type": "execute_result"
        }
      ],
      "source": [
        "y_test_draft.head()"
      ]
    },
    {
      "cell_type": "code",
      "execution_count": 151,
      "metadata": {
        "colab": {
          "base_uri": "https://localhost:8080/"
        },
        "id": "-G4DSpvFRrk4",
        "outputId": "9842e948-8a55-4b80-8fac-f96714e85589"
      },
      "outputs": [
        {
          "data": {
            "text/html": [
              "<div>\n",
              "<style scoped>\n",
              "    .dataframe tbody tr th:only-of-type {\n",
              "        vertical-align: middle;\n",
              "    }\n",
              "\n",
              "    .dataframe tbody tr th {\n",
              "        vertical-align: top;\n",
              "    }\n",
              "\n",
              "    .dataframe thead th {\n",
              "        text-align: right;\n",
              "    }\n",
              "</style>\n",
              "<table border=\"1\" class=\"dataframe\">\n",
              "  <thead>\n",
              "    <tr style=\"text-align: right;\">\n",
              "      <th></th>\n",
              "      <th>Department_Research &amp; Development</th>\n",
              "      <th>Department_Sales</th>\n",
              "      <th>Attrition_Yes</th>\n",
              "    </tr>\n",
              "  </thead>\n",
              "  <tbody>\n",
              "    <tr>\n",
              "      <th>0</th>\n",
              "      <td>1.0</td>\n",
              "      <td>0.0</td>\n",
              "      <td>0.0</td>\n",
              "    </tr>\n",
              "    <tr>\n",
              "      <th>1</th>\n",
              "      <td>1.0</td>\n",
              "      <td>0.0</td>\n",
              "      <td>0.0</td>\n",
              "    </tr>\n",
              "    <tr>\n",
              "      <th>2</th>\n",
              "      <td>0.0</td>\n",
              "      <td>1.0</td>\n",
              "      <td>0.0</td>\n",
              "    </tr>\n",
              "    <tr>\n",
              "      <th>3</th>\n",
              "      <td>1.0</td>\n",
              "      <td>0.0</td>\n",
              "      <td>0.0</td>\n",
              "    </tr>\n",
              "    <tr>\n",
              "      <th>4</th>\n",
              "      <td>1.0</td>\n",
              "      <td>0.0</td>\n",
              "      <td>0.0</td>\n",
              "    </tr>\n",
              "  </tbody>\n",
              "</table>\n",
              "</div>"
            ],
            "text/plain": [
              "   Department_Research & Development  Department_Sales  Attrition_Yes\n",
              "0                                1.0               0.0            0.0\n",
              "1                                1.0               0.0            0.0\n",
              "2                                0.0               1.0            0.0\n",
              "3                                1.0               0.0            0.0\n",
              "4                                1.0               0.0            0.0"
            ]
          },
          "execution_count": 151,
          "metadata": {},
          "output_type": "execute_result"
        }
      ],
      "source": [
        "# Create a OneHotEncoder for the Attrition column\n",
        "encoder = OneHotEncoder(sparse_output=False, drop='first')\n",
        "\n",
        "# Fit the encoder to the training data\n",
        "attrition_encoded = encoder.fit_transform(y_train_draft[['Attrition']])\n",
        "\n",
        "# Create two new variables by applying the encoder\n",
        "# to the training and testing data\n",
        "\n",
        "attrition_encoded_train = encoder.transform(y_train_draft[['Attrition']])\n",
        "attrition_encoded_train_df = pd.DataFrame(attrition_encoded_train, columns=encoder.get_feature_names_out(['Attrition']))\n",
        "y_train_final = y_train_draft.drop(columns=['Attrition']).reset_index(drop=True).join(attrition_encoded_train_df)\n",
        "\n",
        "attrition_encoded_test = encoder.transform(y_test_draft[['Attrition']])\n",
        "attrition_encoded_test_df = pd.DataFrame(attrition_encoded_test, columns=encoder.get_feature_names_out(['Attrition']))\n",
        "y_test_final= y_test_draft.drop(columns=['Attrition']).reset_index(drop=True).join(attrition_encoded_test_df)\n",
        "\n",
        "y_train_final.head()"
      ]
    },
    {
      "cell_type": "code",
      "execution_count": 152,
      "metadata": {},
      "outputs": [
        {
          "data": {
            "text/html": [
              "<div>\n",
              "<style scoped>\n",
              "    .dataframe tbody tr th:only-of-type {\n",
              "        vertical-align: middle;\n",
              "    }\n",
              "\n",
              "    .dataframe tbody tr th {\n",
              "        vertical-align: top;\n",
              "    }\n",
              "\n",
              "    .dataframe thead th {\n",
              "        text-align: right;\n",
              "    }\n",
              "</style>\n",
              "<table border=\"1\" class=\"dataframe\">\n",
              "  <thead>\n",
              "    <tr style=\"text-align: right;\">\n",
              "      <th></th>\n",
              "      <th>Department_Research &amp; Development</th>\n",
              "      <th>Department_Sales</th>\n",
              "      <th>Attrition_Yes</th>\n",
              "    </tr>\n",
              "  </thead>\n",
              "  <tbody>\n",
              "    <tr>\n",
              "      <th>0</th>\n",
              "      <td>0.0</td>\n",
              "      <td>1.0</td>\n",
              "      <td>0.0</td>\n",
              "    </tr>\n",
              "    <tr>\n",
              "      <th>1</th>\n",
              "      <td>1.0</td>\n",
              "      <td>0.0</td>\n",
              "      <td>0.0</td>\n",
              "    </tr>\n",
              "    <tr>\n",
              "      <th>2</th>\n",
              "      <td>0.0</td>\n",
              "      <td>0.0</td>\n",
              "      <td>1.0</td>\n",
              "    </tr>\n",
              "    <tr>\n",
              "      <th>3</th>\n",
              "      <td>1.0</td>\n",
              "      <td>0.0</td>\n",
              "      <td>0.0</td>\n",
              "    </tr>\n",
              "    <tr>\n",
              "      <th>4</th>\n",
              "      <td>1.0</td>\n",
              "      <td>0.0</td>\n",
              "      <td>0.0</td>\n",
              "    </tr>\n",
              "  </tbody>\n",
              "</table>\n",
              "</div>"
            ],
            "text/plain": [
              "   Department_Research & Development  Department_Sales  Attrition_Yes\n",
              "0                                0.0               1.0            0.0\n",
              "1                                1.0               0.0            0.0\n",
              "2                                0.0               0.0            1.0\n",
              "3                                1.0               0.0            0.0\n",
              "4                                1.0               0.0            0.0"
            ]
          },
          "execution_count": 152,
          "metadata": {},
          "output_type": "execute_result"
        }
      ],
      "source": [
        "y_test_final.head()"
      ]
    },
    {
      "cell_type": "code",
      "execution_count": 153,
      "metadata": {},
      "outputs": [
        {
          "data": {
            "text/html": [
              "<div>\n",
              "<style scoped>\n",
              "    .dataframe tbody tr th:only-of-type {\n",
              "        vertical-align: middle;\n",
              "    }\n",
              "\n",
              "    .dataframe tbody tr th {\n",
              "        vertical-align: top;\n",
              "    }\n",
              "\n",
              "    .dataframe thead th {\n",
              "        text-align: right;\n",
              "    }\n",
              "</style>\n",
              "<table border=\"1\" class=\"dataframe\">\n",
              "  <thead>\n",
              "    <tr style=\"text-align: right;\">\n",
              "      <th></th>\n",
              "      <th>Department_Research &amp; Development</th>\n",
              "      <th>Department_Sales</th>\n",
              "      <th>Attrition_Yes</th>\n",
              "      <th>Department_Human_Resources</th>\n",
              "      <th>Attrition_No</th>\n",
              "    </tr>\n",
              "  </thead>\n",
              "  <tbody>\n",
              "    <tr>\n",
              "      <th>0</th>\n",
              "      <td>0.0</td>\n",
              "      <td>1.0</td>\n",
              "      <td>0.0</td>\n",
              "      <td>0.0</td>\n",
              "      <td>1.0</td>\n",
              "    </tr>\n",
              "    <tr>\n",
              "      <th>1</th>\n",
              "      <td>1.0</td>\n",
              "      <td>0.0</td>\n",
              "      <td>0.0</td>\n",
              "      <td>0.0</td>\n",
              "      <td>1.0</td>\n",
              "    </tr>\n",
              "    <tr>\n",
              "      <th>2</th>\n",
              "      <td>0.0</td>\n",
              "      <td>0.0</td>\n",
              "      <td>1.0</td>\n",
              "      <td>1.0</td>\n",
              "      <td>0.0</td>\n",
              "    </tr>\n",
              "    <tr>\n",
              "      <th>3</th>\n",
              "      <td>1.0</td>\n",
              "      <td>0.0</td>\n",
              "      <td>0.0</td>\n",
              "      <td>0.0</td>\n",
              "      <td>1.0</td>\n",
              "    </tr>\n",
              "    <tr>\n",
              "      <th>4</th>\n",
              "      <td>1.0</td>\n",
              "      <td>0.0</td>\n",
              "      <td>0.0</td>\n",
              "      <td>0.0</td>\n",
              "      <td>1.0</td>\n",
              "    </tr>\n",
              "  </tbody>\n",
              "</table>\n",
              "</div>"
            ],
            "text/plain": [
              "   Department_Research & Development  Department_Sales  Attrition_Yes  \\\n",
              "0                                0.0               1.0            0.0   \n",
              "1                                1.0               0.0            0.0   \n",
              "2                                0.0               0.0            1.0   \n",
              "3                                1.0               0.0            0.0   \n",
              "4                                1.0               0.0            0.0   \n",
              "\n",
              "   Department_Human_Resources  Attrition_No  \n",
              "0                         0.0           1.0  \n",
              "1                         0.0           1.0  \n",
              "2                         1.0           0.0  \n",
              "3                         0.0           1.0  \n",
              "4                         0.0           1.0  "
            ]
          },
          "execution_count": 153,
          "metadata": {},
          "output_type": "execute_result"
        }
      ],
      "source": [
        "#Engineering some columns for missing values\n",
        "\n",
        "y_train_final['Department_Human_Resources'] = (\n",
        "    (y_train_final['Department_Research & Development'] == 0) &\n",
        "    (y_train_final['Department_Sales'] == 0)\n",
        ").astype(float)\n",
        "\n",
        "# Create the Attrition_No column\n",
        "y_train_final['Attrition_No'] = (\n",
        "    (y_train_final['Attrition_Yes'] == 0)\n",
        ").astype(float)\n",
        "\n",
        "y_test_final['Department_Human_Resources'] = (\n",
        "    (y_test_final['Department_Research & Development'] == 0) &\n",
        "    (y_test_final['Department_Sales'] == 0)\n",
        ").astype(float)\n",
        "\n",
        "# Create the Attrition_No column\n",
        "y_test_final['Attrition_No'] = (\n",
        "    (y_test_final['Attrition_Yes'] == 0)\n",
        ").astype(float)\n",
        "\n",
        "y_test_final.head()"
      ]
    },
    {
      "cell_type": "code",
      "execution_count": 154,
      "metadata": {},
      "outputs": [],
      "source": [
        "#Splitting the training set by branches we'll use\n",
        "\n",
        "y_train_department = y_train_final[['Department_Research & Development', 'Department_Sales', 'Department_Human_Resources']]\n",
        "y_train_attrition = y_train_final[['Attrition_No', 'Attrition_Yes']]\n",
        "\n",
        "y_test_department = y_test_final[['Department_Research & Development', 'Department_Sales', 'Department_Human_Resources']]\n",
        "y_test_attrition = y_test_final[['Attrition_No', 'Attrition_Yes']]"
      ]
    },
    {
      "cell_type": "markdown",
      "metadata": {
        "id": "ykNmu_WWGc3T"
      },
      "source": [
        "## Create, Compile, and Train the Model"
      ]
    },
    {
      "cell_type": "code",
      "execution_count": 155,
      "metadata": {
        "id": "WUptZqmSGc3T"
      },
      "outputs": [],
      "source": [
        "from tensorflow.keras import layers, models, Model\n",
        "\n",
        "# Find the number of columns in the X training data\n",
        "num_columns = X_train.shape[1]\n",
        "# Create the input layer\n",
        "input_layer = layers.Input(shape=(num_columns,), name='input')\n",
        "\n",
        "# Create at least two shared layers\n",
        "shared1 = layers.Dense(64, activation='relu', name='shared1')(input_layer)\n",
        "shared2 = layers.Dense(128, activation='relu', name='shared2')(shared1)"
      ]
    },
    {
      "cell_type": "code",
      "execution_count": 156,
      "metadata": {
        "id": "JukjTm2yTEqd"
      },
      "outputs": [],
      "source": [
        "# Create a branch for Department\n",
        "# with a hidden layer and an output layer\n",
        "\n",
        "# Create the hidden layer\n",
        "department_hidden = layers.Dense(32, activation='relu', name='department_hidden')(shared2)\n",
        "\n",
        "# Create the output layer\n",
        "department_output = layers.Dense(3, activation='softmax', name='department_output')(department_hidden)\n"
      ]
    },
    {
      "cell_type": "code",
      "execution_count": 157,
      "metadata": {
        "id": "9OqhUiOJUBkR"
      },
      "outputs": [],
      "source": [
        "# Create a branch for Attrition\n",
        "# with a hidden layer and an output layer\n",
        "\n",
        "# Create the hidden layer\n",
        "attrition_hidden = layers.Dense(32, activation='relu', name='attrition_hidden')(shared2)\n",
        "\n",
        "# Create the output layer\n",
        "attrition_output = layers.Dense(2, activation='sigmoid', name='attrition_output')(attrition_hidden)\n"
      ]
    },
    {
      "cell_type": "code",
      "execution_count": 158,
      "metadata": {
        "colab": {
          "base_uri": "https://localhost:8080/"
        },
        "id": "twmuejdxGc3T",
        "outputId": "25096308-b68b-42e4-e4ea-ae82e97c435a"
      },
      "outputs": [
        {
          "data": {
            "text/html": [
              "<pre style=\"white-space:pre;overflow-x:auto;line-height:normal;font-family:Menlo,'DejaVu Sans Mono',consolas,'Courier New',monospace\"><span style=\"font-weight: bold\">Model: \"functional_6\"</span>\n",
              "</pre>\n"
            ],
            "text/plain": [
              "\u001b[1mModel: \"functional_6\"\u001b[0m\n"
            ]
          },
          "metadata": {},
          "output_type": "display_data"
        },
        {
          "data": {
            "text/html": [
              "<pre style=\"white-space:pre;overflow-x:auto;line-height:normal;font-family:Menlo,'DejaVu Sans Mono',consolas,'Courier New',monospace\">┏━━━━━━━━━━━━━━━━━━━━━┳━━━━━━━━━━━━━━━━━━━┳━━━━━━━━━━━━┳━━━━━━━━━━━━━━━━━━━┓\n",
              "┃<span style=\"font-weight: bold\"> Layer (type)        </span>┃<span style=\"font-weight: bold\"> Output Shape      </span>┃<span style=\"font-weight: bold\">    Param # </span>┃<span style=\"font-weight: bold\"> Connected to      </span>┃\n",
              "┡━━━━━━━━━━━━━━━━━━━━━╇━━━━━━━━━━━━━━━━━━━╇━━━━━━━━━━━━╇━━━━━━━━━━━━━━━━━━━┩\n",
              "│ input (<span style=\"color: #0087ff; text-decoration-color: #0087ff\">InputLayer</span>)  │ (<span style=\"color: #00d7ff; text-decoration-color: #00d7ff\">None</span>, <span style=\"color: #00af00; text-decoration-color: #00af00\">10</span>)        │          <span style=\"color: #00af00; text-decoration-color: #00af00\">0</span> │ -                 │\n",
              "├─────────────────────┼───────────────────┼────────────┼───────────────────┤\n",
              "│ shared1 (<span style=\"color: #0087ff; text-decoration-color: #0087ff\">Dense</span>)     │ (<span style=\"color: #00d7ff; text-decoration-color: #00d7ff\">None</span>, <span style=\"color: #00af00; text-decoration-color: #00af00\">64</span>)        │        <span style=\"color: #00af00; text-decoration-color: #00af00\">704</span> │ input[<span style=\"color: #00af00; text-decoration-color: #00af00\">0</span>][<span style=\"color: #00af00; text-decoration-color: #00af00\">0</span>]       │\n",
              "├─────────────────────┼───────────────────┼────────────┼───────────────────┤\n",
              "│ shared2 (<span style=\"color: #0087ff; text-decoration-color: #0087ff\">Dense</span>)     │ (<span style=\"color: #00d7ff; text-decoration-color: #00d7ff\">None</span>, <span style=\"color: #00af00; text-decoration-color: #00af00\">128</span>)       │      <span style=\"color: #00af00; text-decoration-color: #00af00\">8,320</span> │ shared1[<span style=\"color: #00af00; text-decoration-color: #00af00\">0</span>][<span style=\"color: #00af00; text-decoration-color: #00af00\">0</span>]     │\n",
              "├─────────────────────┼───────────────────┼────────────┼───────────────────┤\n",
              "│ department_hidden   │ (<span style=\"color: #00d7ff; text-decoration-color: #00d7ff\">None</span>, <span style=\"color: #00af00; text-decoration-color: #00af00\">32</span>)        │      <span style=\"color: #00af00; text-decoration-color: #00af00\">4,128</span> │ shared2[<span style=\"color: #00af00; text-decoration-color: #00af00\">0</span>][<span style=\"color: #00af00; text-decoration-color: #00af00\">0</span>]     │\n",
              "│ (<span style=\"color: #0087ff; text-decoration-color: #0087ff\">Dense</span>)             │                   │            │                   │\n",
              "├─────────────────────┼───────────────────┼────────────┼───────────────────┤\n",
              "│ attrition_hidden    │ (<span style=\"color: #00d7ff; text-decoration-color: #00d7ff\">None</span>, <span style=\"color: #00af00; text-decoration-color: #00af00\">32</span>)        │      <span style=\"color: #00af00; text-decoration-color: #00af00\">4,128</span> │ shared2[<span style=\"color: #00af00; text-decoration-color: #00af00\">0</span>][<span style=\"color: #00af00; text-decoration-color: #00af00\">0</span>]     │\n",
              "│ (<span style=\"color: #0087ff; text-decoration-color: #0087ff\">Dense</span>)             │                   │            │                   │\n",
              "├─────────────────────┼───────────────────┼────────────┼───────────────────┤\n",
              "│ department_output   │ (<span style=\"color: #00d7ff; text-decoration-color: #00d7ff\">None</span>, <span style=\"color: #00af00; text-decoration-color: #00af00\">3</span>)         │         <span style=\"color: #00af00; text-decoration-color: #00af00\">99</span> │ department_hidde… │\n",
              "│ (<span style=\"color: #0087ff; text-decoration-color: #0087ff\">Dense</span>)             │                   │            │                   │\n",
              "├─────────────────────┼───────────────────┼────────────┼───────────────────┤\n",
              "│ attrition_output    │ (<span style=\"color: #00d7ff; text-decoration-color: #00d7ff\">None</span>, <span style=\"color: #00af00; text-decoration-color: #00af00\">2</span>)         │         <span style=\"color: #00af00; text-decoration-color: #00af00\">66</span> │ attrition_hidden… │\n",
              "│ (<span style=\"color: #0087ff; text-decoration-color: #0087ff\">Dense</span>)             │                   │            │                   │\n",
              "└─────────────────────┴───────────────────┴────────────┴───────────────────┘\n",
              "</pre>\n"
            ],
            "text/plain": [
              "┏━━━━━━━━━━━━━━━━━━━━━┳━━━━━━━━━━━━━━━━━━━┳━━━━━━━━━━━━┳━━━━━━━━━━━━━━━━━━━┓\n",
              "┃\u001b[1m \u001b[0m\u001b[1mLayer (type)       \u001b[0m\u001b[1m \u001b[0m┃\u001b[1m \u001b[0m\u001b[1mOutput Shape     \u001b[0m\u001b[1m \u001b[0m┃\u001b[1m \u001b[0m\u001b[1m   Param #\u001b[0m\u001b[1m \u001b[0m┃\u001b[1m \u001b[0m\u001b[1mConnected to     \u001b[0m\u001b[1m \u001b[0m┃\n",
              "┡━━━━━━━━━━━━━━━━━━━━━╇━━━━━━━━━━━━━━━━━━━╇━━━━━━━━━━━━╇━━━━━━━━━━━━━━━━━━━┩\n",
              "│ input (\u001b[38;5;33mInputLayer\u001b[0m)  │ (\u001b[38;5;45mNone\u001b[0m, \u001b[38;5;34m10\u001b[0m)        │          \u001b[38;5;34m0\u001b[0m │ -                 │\n",
              "├─────────────────────┼───────────────────┼────────────┼───────────────────┤\n",
              "│ shared1 (\u001b[38;5;33mDense\u001b[0m)     │ (\u001b[38;5;45mNone\u001b[0m, \u001b[38;5;34m64\u001b[0m)        │        \u001b[38;5;34m704\u001b[0m │ input[\u001b[38;5;34m0\u001b[0m][\u001b[38;5;34m0\u001b[0m]       │\n",
              "├─────────────────────┼───────────────────┼────────────┼───────────────────┤\n",
              "│ shared2 (\u001b[38;5;33mDense\u001b[0m)     │ (\u001b[38;5;45mNone\u001b[0m, \u001b[38;5;34m128\u001b[0m)       │      \u001b[38;5;34m8,320\u001b[0m │ shared1[\u001b[38;5;34m0\u001b[0m][\u001b[38;5;34m0\u001b[0m]     │\n",
              "├─────────────────────┼───────────────────┼────────────┼───────────────────┤\n",
              "│ department_hidden   │ (\u001b[38;5;45mNone\u001b[0m, \u001b[38;5;34m32\u001b[0m)        │      \u001b[38;5;34m4,128\u001b[0m │ shared2[\u001b[38;5;34m0\u001b[0m][\u001b[38;5;34m0\u001b[0m]     │\n",
              "│ (\u001b[38;5;33mDense\u001b[0m)             │                   │            │                   │\n",
              "├─────────────────────┼───────────────────┼────────────┼───────────────────┤\n",
              "│ attrition_hidden    │ (\u001b[38;5;45mNone\u001b[0m, \u001b[38;5;34m32\u001b[0m)        │      \u001b[38;5;34m4,128\u001b[0m │ shared2[\u001b[38;5;34m0\u001b[0m][\u001b[38;5;34m0\u001b[0m]     │\n",
              "│ (\u001b[38;5;33mDense\u001b[0m)             │                   │            │                   │\n",
              "├─────────────────────┼───────────────────┼────────────┼───────────────────┤\n",
              "│ department_output   │ (\u001b[38;5;45mNone\u001b[0m, \u001b[38;5;34m3\u001b[0m)         │         \u001b[38;5;34m99\u001b[0m │ department_hidde… │\n",
              "│ (\u001b[38;5;33mDense\u001b[0m)             │                   │            │                   │\n",
              "├─────────────────────┼───────────────────┼────────────┼───────────────────┤\n",
              "│ attrition_output    │ (\u001b[38;5;45mNone\u001b[0m, \u001b[38;5;34m2\u001b[0m)         │         \u001b[38;5;34m66\u001b[0m │ attrition_hidden… │\n",
              "│ (\u001b[38;5;33mDense\u001b[0m)             │                   │            │                   │\n",
              "└─────────────────────┴───────────────────┴────────────┴───────────────────┘\n"
            ]
          },
          "metadata": {},
          "output_type": "display_data"
        },
        {
          "data": {
            "text/html": [
              "<pre style=\"white-space:pre;overflow-x:auto;line-height:normal;font-family:Menlo,'DejaVu Sans Mono',consolas,'Courier New',monospace\"><span style=\"font-weight: bold\"> Total params: </span><span style=\"color: #00af00; text-decoration-color: #00af00\">17,445</span> (68.14 KB)\n",
              "</pre>\n"
            ],
            "text/plain": [
              "\u001b[1m Total params: \u001b[0m\u001b[38;5;34m17,445\u001b[0m (68.14 KB)\n"
            ]
          },
          "metadata": {},
          "output_type": "display_data"
        },
        {
          "data": {
            "text/html": [
              "<pre style=\"white-space:pre;overflow-x:auto;line-height:normal;font-family:Menlo,'DejaVu Sans Mono',consolas,'Courier New',monospace\"><span style=\"font-weight: bold\"> Trainable params: </span><span style=\"color: #00af00; text-decoration-color: #00af00\">17,445</span> (68.14 KB)\n",
              "</pre>\n"
            ],
            "text/plain": [
              "\u001b[1m Trainable params: \u001b[0m\u001b[38;5;34m17,445\u001b[0m (68.14 KB)\n"
            ]
          },
          "metadata": {},
          "output_type": "display_data"
        },
        {
          "data": {
            "text/html": [
              "<pre style=\"white-space:pre;overflow-x:auto;line-height:normal;font-family:Menlo,'DejaVu Sans Mono',consolas,'Courier New',monospace\"><span style=\"font-weight: bold\"> Non-trainable params: </span><span style=\"color: #00af00; text-decoration-color: #00af00\">0</span> (0.00 B)\n",
              "</pre>\n"
            ],
            "text/plain": [
              "\u001b[1m Non-trainable params: \u001b[0m\u001b[38;5;34m0\u001b[0m (0.00 B)\n"
            ]
          },
          "metadata": {},
          "output_type": "display_data"
        }
      ],
      "source": [
        "# Create the model\n",
        "model = models.Model(inputs=input_layer, outputs=[department_output, attrition_output])\n",
        "\n",
        "\n",
        "# Compile the model\n",
        "model.compile(\n",
        "    optimizer='adam',\n",
        "    loss={\n",
        "        'department_output': 'categorical_crossentropy', \n",
        "        'attrition_output': 'binary_crossentropy' \n",
        "    },      \n",
        "    metrics={\n",
        "        'department_output': ['accuracy'],\n",
        "        'attrition_output': ['accuracy']\n",
        "    }\n",
        ")\n",
        "\n",
        "# Summarize the model\n",
        "model.summary()"
      ]
    },
    {
      "cell_type": "code",
      "execution_count": 159,
      "metadata": {
        "colab": {
          "base_uri": "https://localhost:8080/"
        },
        "id": "c8oGy0dpGc3U",
        "outputId": "cc667d43-28cf-42d4-d719-c2bc02888d30"
      },
      "outputs": [
        {
          "name": "stdout",
          "output_type": "stream",
          "text": [
            "Epoch 1/100\n",
            "\u001b[1m30/30\u001b[0m \u001b[32m━━━━━━━━━━━━━━━━━━━━\u001b[0m\u001b[37m\u001b[0m \u001b[1m1s\u001b[0m 5ms/step - attrition_output_accuracy: 0.8372 - department_output_accuracy: 0.5386 - loss: 2.3020 - val_attrition_output_accuracy: 0.7966 - val_department_output_accuracy: 0.6017 - val_loss: 1.3193\n",
            "Epoch 2/100\n",
            "\u001b[1m30/30\u001b[0m \u001b[32m━━━━━━━━━━━━━━━━━━━━\u001b[0m\u001b[37m\u001b[0m \u001b[1m0s\u001b[0m 1ms/step - attrition_output_accuracy: 0.8450 - department_output_accuracy: 0.6333 - loss: 1.2576 - val_attrition_output_accuracy: 0.7966 - val_department_output_accuracy: 0.6186 - val_loss: 1.3362\n",
            "Epoch 3/100\n",
            "\u001b[1m30/30\u001b[0m \u001b[32m━━━━━━━━━━━━━━━━━━━━\u001b[0m\u001b[37m\u001b[0m \u001b[1m0s\u001b[0m 1ms/step - attrition_output_accuracy: 0.8582 - department_output_accuracy: 0.6705 - loss: 1.1517 - val_attrition_output_accuracy: 0.7966 - val_department_output_accuracy: 0.6102 - val_loss: 1.2842\n",
            "Epoch 4/100\n",
            "\u001b[1m30/30\u001b[0m \u001b[32m━━━━━━━━━━━━━━━━━━━━\u001b[0m\u001b[37m\u001b[0m \u001b[1m0s\u001b[0m 1ms/step - attrition_output_accuracy: 0.8257 - department_output_accuracy: 0.6269 - loss: 1.2151 - val_attrition_output_accuracy: 0.7966 - val_department_output_accuracy: 0.6314 - val_loss: 1.3520\n",
            "Epoch 5/100\n",
            "\u001b[1m30/30\u001b[0m \u001b[32m━━━━━━━━━━━━━━━━━━━━\u001b[0m\u001b[37m\u001b[0m \u001b[1m0s\u001b[0m 2ms/step - attrition_output_accuracy: 0.8373 - department_output_accuracy: 0.6621 - loss: 1.1943 - val_attrition_output_accuracy: 0.7966 - val_department_output_accuracy: 0.6229 - val_loss: 1.3152\n",
            "Epoch 6/100\n",
            "\u001b[1m30/30\u001b[0m \u001b[32m━━━━━━━━━━━━━━━━━━━━\u001b[0m\u001b[37m\u001b[0m \u001b[1m0s\u001b[0m 1ms/step - attrition_output_accuracy: 0.8493 - department_output_accuracy: 0.6822 - loss: 1.1213 - val_attrition_output_accuracy: 0.7966 - val_department_output_accuracy: 0.6144 - val_loss: 1.2906\n",
            "Epoch 7/100\n",
            "\u001b[1m30/30\u001b[0m \u001b[32m━━━━━━━━━━━━━━━━━━━━\u001b[0m\u001b[37m\u001b[0m \u001b[1m0s\u001b[0m 1ms/step - attrition_output_accuracy: 0.8265 - department_output_accuracy: 0.6308 - loss: 1.2039 - val_attrition_output_accuracy: 0.7966 - val_department_output_accuracy: 0.6356 - val_loss: 1.3216\n",
            "Epoch 8/100\n",
            "\u001b[1m30/30\u001b[0m \u001b[32m━━━━━━━━━━━━━━━━━━━━\u001b[0m\u001b[37m\u001b[0m \u001b[1m0s\u001b[0m 1ms/step - attrition_output_accuracy: 0.8514 - department_output_accuracy: 0.6261 - loss: 1.1680 - val_attrition_output_accuracy: 0.7966 - val_department_output_accuracy: 0.6229 - val_loss: 1.3288\n",
            "Epoch 9/100\n",
            "\u001b[1m30/30\u001b[0m \u001b[32m━━━━━━━━━━━━━━━━━━━━\u001b[0m\u001b[37m\u001b[0m \u001b[1m0s\u001b[0m 1ms/step - attrition_output_accuracy: 0.8600 - department_output_accuracy: 0.6307 - loss: 1.1492 - val_attrition_output_accuracy: 0.8178 - val_department_output_accuracy: 0.6144 - val_loss: 1.2596\n",
            "Epoch 10/100\n",
            "\u001b[1m30/30\u001b[0m \u001b[32m━━━━━━━━━━━━━━━━━━━━\u001b[0m\u001b[37m\u001b[0m \u001b[1m0s\u001b[0m 1ms/step - attrition_output_accuracy: 0.8648 - department_output_accuracy: 0.6590 - loss: 1.1420 - val_attrition_output_accuracy: 0.8008 - val_department_output_accuracy: 0.6229 - val_loss: 1.3368\n",
            "Epoch 11/100\n",
            "\u001b[1m30/30\u001b[0m \u001b[32m━━━━━━━━━━━━━━━━━━━━\u001b[0m\u001b[37m\u001b[0m \u001b[1m0s\u001b[0m 1ms/step - attrition_output_accuracy: 0.8564 - department_output_accuracy: 0.6564 - loss: 1.1388 - val_attrition_output_accuracy: 0.7966 - val_department_output_accuracy: 0.6229 - val_loss: 1.3312\n",
            "Epoch 12/100\n",
            "\u001b[1m30/30\u001b[0m \u001b[32m━━━━━━━━━━━━━━━━━━━━\u001b[0m\u001b[37m\u001b[0m \u001b[1m0s\u001b[0m 1ms/step - attrition_output_accuracy: 0.8440 - department_output_accuracy: 0.6699 - loss: 1.1318 - val_attrition_output_accuracy: 0.8220 - val_department_output_accuracy: 0.6229 - val_loss: 1.2872\n",
            "Epoch 13/100\n",
            "\u001b[1m30/30\u001b[0m \u001b[32m━━━━━━━━━━━━━━━━━━━━\u001b[0m\u001b[37m\u001b[0m \u001b[1m0s\u001b[0m 1ms/step - attrition_output_accuracy: 0.8661 - department_output_accuracy: 0.6575 - loss: 1.1103 - val_attrition_output_accuracy: 0.8263 - val_department_output_accuracy: 0.6186 - val_loss: 1.3045\n",
            "Epoch 14/100\n",
            "\u001b[1m30/30\u001b[0m \u001b[32m━━━━━━━━━━━━━━━━━━━━\u001b[0m\u001b[37m\u001b[0m \u001b[1m0s\u001b[0m 1ms/step - attrition_output_accuracy: 0.8551 - department_output_accuracy: 0.6469 - loss: 1.1158 - val_attrition_output_accuracy: 0.8136 - val_department_output_accuracy: 0.6186 - val_loss: 1.3142\n",
            "Epoch 15/100\n",
            "\u001b[1m30/30\u001b[0m \u001b[32m━━━━━━━━━━━━━━━━━━━━\u001b[0m\u001b[37m\u001b[0m \u001b[1m0s\u001b[0m 1ms/step - attrition_output_accuracy: 0.8765 - department_output_accuracy: 0.6813 - loss: 1.0846 - val_attrition_output_accuracy: 0.8051 - val_department_output_accuracy: 0.5805 - val_loss: 1.3051\n",
            "Epoch 16/100\n",
            "\u001b[1m30/30\u001b[0m \u001b[32m━━━━━━━━━━━━━━━━━━━━\u001b[0m\u001b[37m\u001b[0m \u001b[1m0s\u001b[0m 1ms/step - attrition_output_accuracy: 0.8591 - department_output_accuracy: 0.6597 - loss: 1.1117 - val_attrition_output_accuracy: 0.8220 - val_department_output_accuracy: 0.6144 - val_loss: 1.2662\n",
            "Epoch 17/100\n",
            "\u001b[1m30/30\u001b[0m \u001b[32m━━━━━━━━━━━━━━━━━━━━\u001b[0m\u001b[37m\u001b[0m \u001b[1m0s\u001b[0m 1ms/step - attrition_output_accuracy: 0.8596 - department_output_accuracy: 0.6623 - loss: 1.0853 - val_attrition_output_accuracy: 0.8051 - val_department_output_accuracy: 0.6229 - val_loss: 1.3672\n",
            "Epoch 18/100\n",
            "\u001b[1m30/30\u001b[0m \u001b[32m━━━━━━━━━━━━━━━━━━━━\u001b[0m\u001b[37m\u001b[0m \u001b[1m0s\u001b[0m 1ms/step - attrition_output_accuracy: 0.8596 - department_output_accuracy: 0.6710 - loss: 1.0967 - val_attrition_output_accuracy: 0.8220 - val_department_output_accuracy: 0.6186 - val_loss: 1.2850\n",
            "Epoch 19/100\n",
            "\u001b[1m30/30\u001b[0m \u001b[32m━━━━━━━━━━━━━━━━━━━━\u001b[0m\u001b[37m\u001b[0m \u001b[1m0s\u001b[0m 1ms/step - attrition_output_accuracy: 0.8776 - department_output_accuracy: 0.6692 - loss: 1.0885 - val_attrition_output_accuracy: 0.8136 - val_department_output_accuracy: 0.6229 - val_loss: 1.2998\n",
            "Epoch 20/100\n",
            "\u001b[1m30/30\u001b[0m \u001b[32m━━━━━━━━━━━━━━━━━━━━\u001b[0m\u001b[37m\u001b[0m \u001b[1m0s\u001b[0m 1ms/step - attrition_output_accuracy: 0.8517 - department_output_accuracy: 0.6592 - loss: 1.0989 - val_attrition_output_accuracy: 0.8178 - val_department_output_accuracy: 0.6356 - val_loss: 1.3793\n",
            "Epoch 21/100\n",
            "\u001b[1m30/30\u001b[0m \u001b[32m━━━━━━━━━━━━━━━━━━━━\u001b[0m\u001b[37m\u001b[0m \u001b[1m0s\u001b[0m 1ms/step - attrition_output_accuracy: 0.8857 - department_output_accuracy: 0.6357 - loss: 1.0870 - val_attrition_output_accuracy: 0.8305 - val_department_output_accuracy: 0.6186 - val_loss: 1.2817\n",
            "Epoch 22/100\n",
            "\u001b[1m30/30\u001b[0m \u001b[32m━━━━━━━━━━━━━━━━━━━━\u001b[0m\u001b[37m\u001b[0m \u001b[1m0s\u001b[0m 1ms/step - attrition_output_accuracy: 0.8644 - department_output_accuracy: 0.6505 - loss: 1.1122 - val_attrition_output_accuracy: 0.8263 - val_department_output_accuracy: 0.6271 - val_loss: 1.2788\n",
            "Epoch 23/100\n",
            "\u001b[1m30/30\u001b[0m \u001b[32m━━━━━━━━━━━━━━━━━━━━\u001b[0m\u001b[37m\u001b[0m \u001b[1m0s\u001b[0m 1ms/step - attrition_output_accuracy: 0.8685 - department_output_accuracy: 0.6456 - loss: 1.1047 - val_attrition_output_accuracy: 0.8178 - val_department_output_accuracy: 0.5678 - val_loss: 1.3046\n",
            "Epoch 24/100\n",
            "\u001b[1m30/30\u001b[0m \u001b[32m━━━━━━━━━━━━━━━━━━━━\u001b[0m\u001b[37m\u001b[0m \u001b[1m0s\u001b[0m 1ms/step - attrition_output_accuracy: 0.8730 - department_output_accuracy: 0.6461 - loss: 1.0702 - val_attrition_output_accuracy: 0.8305 - val_department_output_accuracy: 0.6229 - val_loss: 1.3355\n",
            "Epoch 25/100\n",
            "\u001b[1m30/30\u001b[0m \u001b[32m━━━━━━━━━━━━━━━━━━━━\u001b[0m\u001b[37m\u001b[0m \u001b[1m0s\u001b[0m 1ms/step - attrition_output_accuracy: 0.8731 - department_output_accuracy: 0.6819 - loss: 1.0514 - val_attrition_output_accuracy: 0.8220 - val_department_output_accuracy: 0.6314 - val_loss: 1.3148\n",
            "Epoch 26/100\n",
            "\u001b[1m30/30\u001b[0m \u001b[32m━━━━━━━━━━━━━━━━━━━━\u001b[0m\u001b[37m\u001b[0m \u001b[1m0s\u001b[0m 1ms/step - attrition_output_accuracy: 0.8568 - department_output_accuracy: 0.6838 - loss: 1.0733 - val_attrition_output_accuracy: 0.8305 - val_department_output_accuracy: 0.6186 - val_loss: 1.2827\n",
            "Epoch 27/100\n",
            "\u001b[1m30/30\u001b[0m \u001b[32m━━━━━━━━━━━━━━━━━━━━\u001b[0m\u001b[37m\u001b[0m \u001b[1m0s\u001b[0m 1ms/step - attrition_output_accuracy: 0.8721 - department_output_accuracy: 0.6551 - loss: 1.0653 - val_attrition_output_accuracy: 0.8263 - val_department_output_accuracy: 0.6229 - val_loss: 1.2867\n",
            "Epoch 28/100\n",
            "\u001b[1m30/30\u001b[0m \u001b[32m━━━━━━━━━━━━━━━━━━━━\u001b[0m\u001b[37m\u001b[0m \u001b[1m0s\u001b[0m 1ms/step - attrition_output_accuracy: 0.8841 - department_output_accuracy: 0.6448 - loss: 1.0802 - val_attrition_output_accuracy: 0.8263 - val_department_output_accuracy: 0.5763 - val_loss: 1.2846\n",
            "Epoch 29/100\n",
            "\u001b[1m30/30\u001b[0m \u001b[32m━━━━━━━━━━━━━━━━━━━━\u001b[0m\u001b[37m\u001b[0m \u001b[1m0s\u001b[0m 1ms/step - attrition_output_accuracy: 0.8634 - department_output_accuracy: 0.6540 - loss: 1.0758 - val_attrition_output_accuracy: 0.8136 - val_department_output_accuracy: 0.6186 - val_loss: 1.2971\n",
            "Epoch 30/100\n",
            "\u001b[1m30/30\u001b[0m \u001b[32m━━━━━━━━━━━━━━━━━━━━\u001b[0m\u001b[37m\u001b[0m \u001b[1m0s\u001b[0m 1ms/step - attrition_output_accuracy: 0.8638 - department_output_accuracy: 0.6726 - loss: 1.0865 - val_attrition_output_accuracy: 0.8263 - val_department_output_accuracy: 0.6229 - val_loss: 1.3178\n",
            "Epoch 31/100\n",
            "\u001b[1m30/30\u001b[0m \u001b[32m━━━━━━━━━━━━━━━━━━━━\u001b[0m\u001b[37m\u001b[0m \u001b[1m0s\u001b[0m 1ms/step - attrition_output_accuracy: 0.8641 - department_output_accuracy: 0.6664 - loss: 1.0705 - val_attrition_output_accuracy: 0.8136 - val_department_output_accuracy: 0.6229 - val_loss: 1.3641\n",
            "Epoch 32/100\n",
            "\u001b[1m30/30\u001b[0m \u001b[32m━━━━━━━━━━━━━━━━━━━━\u001b[0m\u001b[37m\u001b[0m \u001b[1m0s\u001b[0m 1ms/step - attrition_output_accuracy: 0.8601 - department_output_accuracy: 0.6734 - loss: 1.1048 - val_attrition_output_accuracy: 0.8263 - val_department_output_accuracy: 0.6229 - val_loss: 1.3067\n",
            "Epoch 33/100\n",
            "\u001b[1m30/30\u001b[0m \u001b[32m━━━━━━━━━━━━━━━━━━━━\u001b[0m\u001b[37m\u001b[0m \u001b[1m0s\u001b[0m 1ms/step - attrition_output_accuracy: 0.8806 - department_output_accuracy: 0.6714 - loss: 1.0447 - val_attrition_output_accuracy: 0.8220 - val_department_output_accuracy: 0.6186 - val_loss: 1.3263\n",
            "Epoch 34/100\n",
            "\u001b[1m30/30\u001b[0m \u001b[32m━━━━━━━━━━━━━━━━━━━━\u001b[0m\u001b[37m\u001b[0m \u001b[1m0s\u001b[0m 1ms/step - attrition_output_accuracy: 0.8587 - department_output_accuracy: 0.6794 - loss: 1.0316 - val_attrition_output_accuracy: 0.8220 - val_department_output_accuracy: 0.6144 - val_loss: 1.2934\n",
            "Epoch 35/100\n",
            "\u001b[1m30/30\u001b[0m \u001b[32m━━━━━━━━━━━━━━━━━━━━\u001b[0m\u001b[37m\u001b[0m \u001b[1m0s\u001b[0m 1ms/step - attrition_output_accuracy: 0.8763 - department_output_accuracy: 0.7018 - loss: 1.0002 - val_attrition_output_accuracy: 0.8347 - val_department_output_accuracy: 0.5805 - val_loss: 1.3003\n",
            "Epoch 36/100\n",
            "\u001b[1m30/30\u001b[0m \u001b[32m━━━━━━━━━━━━━━━━━━━━\u001b[0m\u001b[37m\u001b[0m \u001b[1m0s\u001b[0m 1ms/step - attrition_output_accuracy: 0.8847 - department_output_accuracy: 0.6644 - loss: 1.0453 - val_attrition_output_accuracy: 0.8305 - val_department_output_accuracy: 0.6271 - val_loss: 1.2987\n",
            "Epoch 37/100\n",
            "\u001b[1m30/30\u001b[0m \u001b[32m━━━━━━━━━━━━━━━━━━━━\u001b[0m\u001b[37m\u001b[0m \u001b[1m0s\u001b[0m 1ms/step - attrition_output_accuracy: 0.8872 - department_output_accuracy: 0.6477 - loss: 1.0513 - val_attrition_output_accuracy: 0.8093 - val_department_output_accuracy: 0.6229 - val_loss: 1.3077\n",
            "Epoch 38/100\n",
            "\u001b[1m30/30\u001b[0m \u001b[32m━━━━━━━━━━━━━━━━━━━━\u001b[0m\u001b[37m\u001b[0m \u001b[1m0s\u001b[0m 1ms/step - attrition_output_accuracy: 0.8803 - department_output_accuracy: 0.6777 - loss: 0.9972 - val_attrition_output_accuracy: 0.8263 - val_department_output_accuracy: 0.6271 - val_loss: 1.3251\n",
            "Epoch 39/100\n",
            "\u001b[1m30/30\u001b[0m \u001b[32m━━━━━━━━━━━━━━━━━━━━\u001b[0m\u001b[37m\u001b[0m \u001b[1m0s\u001b[0m 1ms/step - attrition_output_accuracy: 0.8785 - department_output_accuracy: 0.6819 - loss: 1.0375 - val_attrition_output_accuracy: 0.8263 - val_department_output_accuracy: 0.6102 - val_loss: 1.2805\n",
            "Epoch 40/100\n",
            "\u001b[1m30/30\u001b[0m \u001b[32m━━━━━━━━━━━━━━━━━━━━\u001b[0m\u001b[37m\u001b[0m \u001b[1m0s\u001b[0m 1ms/step - attrition_output_accuracy: 0.8652 - department_output_accuracy: 0.6719 - loss: 1.0793 - val_attrition_output_accuracy: 0.8263 - val_department_output_accuracy: 0.6144 - val_loss: 1.2956\n",
            "Epoch 41/100\n",
            "\u001b[1m30/30\u001b[0m \u001b[32m━━━━━━━━━━━━━━━━━━━━\u001b[0m\u001b[37m\u001b[0m \u001b[1m0s\u001b[0m 1ms/step - attrition_output_accuracy: 0.8782 - department_output_accuracy: 0.6658 - loss: 1.0390 - val_attrition_output_accuracy: 0.8220 - val_department_output_accuracy: 0.5975 - val_loss: 1.3642\n",
            "Epoch 42/100\n",
            "\u001b[1m30/30\u001b[0m \u001b[32m━━━━━━━━━━━━━━━━━━━━\u001b[0m\u001b[37m\u001b[0m \u001b[1m0s\u001b[0m 1ms/step - attrition_output_accuracy: 0.8701 - department_output_accuracy: 0.6657 - loss: 1.0334 - val_attrition_output_accuracy: 0.8263 - val_department_output_accuracy: 0.6229 - val_loss: 1.3171\n",
            "Epoch 43/100\n",
            "\u001b[1m30/30\u001b[0m \u001b[32m━━━━━━━━━━━━━━━━━━━━\u001b[0m\u001b[37m\u001b[0m \u001b[1m0s\u001b[0m 2ms/step - attrition_output_accuracy: 0.8715 - department_output_accuracy: 0.6613 - loss: 1.0157 - val_attrition_output_accuracy: 0.8305 - val_department_output_accuracy: 0.6229 - val_loss: 1.3531\n",
            "Epoch 44/100\n",
            "\u001b[1m30/30\u001b[0m \u001b[32m━━━━━━━━━━━━━━━━━━━━\u001b[0m\u001b[37m\u001b[0m \u001b[1m0s\u001b[0m 1ms/step - attrition_output_accuracy: 0.8785 - department_output_accuracy: 0.6506 - loss: 1.0469 - val_attrition_output_accuracy: 0.8136 - val_department_output_accuracy: 0.6186 - val_loss: 1.3123\n",
            "Epoch 45/100\n",
            "\u001b[1m30/30\u001b[0m \u001b[32m━━━━━━━━━━━━━━━━━━━━\u001b[0m\u001b[37m\u001b[0m \u001b[1m0s\u001b[0m 1ms/step - attrition_output_accuracy: 0.8689 - department_output_accuracy: 0.6576 - loss: 1.0408 - val_attrition_output_accuracy: 0.8263 - val_department_output_accuracy: 0.5763 - val_loss: 1.3088\n",
            "Epoch 46/100\n",
            "\u001b[1m30/30\u001b[0m \u001b[32m━━━━━━━━━━━━━━━━━━━━\u001b[0m\u001b[37m\u001b[0m \u001b[1m0s\u001b[0m 1ms/step - attrition_output_accuracy: 0.8669 - department_output_accuracy: 0.6790 - loss: 1.0594 - val_attrition_output_accuracy: 0.8263 - val_department_output_accuracy: 0.6271 - val_loss: 1.3170\n",
            "Epoch 47/100\n",
            "\u001b[1m30/30\u001b[0m \u001b[32m━━━━━━━━━━━━━━━━━━━━\u001b[0m\u001b[37m\u001b[0m \u001b[1m0s\u001b[0m 1ms/step - attrition_output_accuracy: 0.8844 - department_output_accuracy: 0.6742 - loss: 1.0310 - val_attrition_output_accuracy: 0.8093 - val_department_output_accuracy: 0.6271 - val_loss: 1.3331\n",
            "Epoch 48/100\n",
            "\u001b[1m30/30\u001b[0m \u001b[32m━━━━━━━━━━━━━━━━━━━━\u001b[0m\u001b[37m\u001b[0m \u001b[1m0s\u001b[0m 1ms/step - attrition_output_accuracy: 0.8929 - department_output_accuracy: 0.6513 - loss: 1.0013 - val_attrition_output_accuracy: 0.8305 - val_department_output_accuracy: 0.5975 - val_loss: 1.3083\n",
            "Epoch 49/100\n",
            "\u001b[1m30/30\u001b[0m \u001b[32m━━━━━━━━━━━━━━━━━━━━\u001b[0m\u001b[37m\u001b[0m \u001b[1m0s\u001b[0m 1ms/step - attrition_output_accuracy: 0.8890 - department_output_accuracy: 0.6742 - loss: 1.0022 - val_attrition_output_accuracy: 0.8220 - val_department_output_accuracy: 0.6314 - val_loss: 1.3643\n",
            "Epoch 50/100\n",
            "\u001b[1m30/30\u001b[0m \u001b[32m━━━━━━━━━━━━━━━━━━━━\u001b[0m\u001b[37m\u001b[0m \u001b[1m0s\u001b[0m 1ms/step - attrition_output_accuracy: 0.8943 - department_output_accuracy: 0.6618 - loss: 0.9737 - val_attrition_output_accuracy: 0.8178 - val_department_output_accuracy: 0.6059 - val_loss: 1.3575\n",
            "Epoch 51/100\n",
            "\u001b[1m30/30\u001b[0m \u001b[32m━━━━━━━━━━━━━━━━━━━━\u001b[0m\u001b[37m\u001b[0m \u001b[1m0s\u001b[0m 1ms/step - attrition_output_accuracy: 0.8857 - department_output_accuracy: 0.6823 - loss: 0.9901 - val_attrition_output_accuracy: 0.8136 - val_department_output_accuracy: 0.6059 - val_loss: 1.3325\n",
            "Epoch 52/100\n",
            "\u001b[1m30/30\u001b[0m \u001b[32m━━━━━━━━━━━━━━━━━━━━\u001b[0m\u001b[37m\u001b[0m \u001b[1m0s\u001b[0m 1ms/step - attrition_output_accuracy: 0.8793 - department_output_accuracy: 0.6805 - loss: 1.0011 - val_attrition_output_accuracy: 0.8305 - val_department_output_accuracy: 0.5508 - val_loss: 1.3613\n",
            "Epoch 53/100\n",
            "\u001b[1m30/30\u001b[0m \u001b[32m━━━━━━━━━━━━━━━━━━━━\u001b[0m\u001b[37m\u001b[0m \u001b[1m0s\u001b[0m 1ms/step - attrition_output_accuracy: 0.8860 - department_output_accuracy: 0.6846 - loss: 0.9920 - val_attrition_output_accuracy: 0.8093 - val_department_output_accuracy: 0.5890 - val_loss: 1.3475\n",
            "Epoch 54/100\n",
            "\u001b[1m30/30\u001b[0m \u001b[32m━━━━━━━━━━━━━━━━━━━━\u001b[0m\u001b[37m\u001b[0m \u001b[1m0s\u001b[0m 1ms/step - attrition_output_accuracy: 0.8895 - department_output_accuracy: 0.6921 - loss: 0.9715 - val_attrition_output_accuracy: 0.8263 - val_department_output_accuracy: 0.6271 - val_loss: 1.3574\n",
            "Epoch 55/100\n",
            "\u001b[1m30/30\u001b[0m \u001b[32m━━━━━━━━━━━━━━━━━━━━\u001b[0m\u001b[37m\u001b[0m \u001b[1m0s\u001b[0m 1ms/step - attrition_output_accuracy: 0.8979 - department_output_accuracy: 0.6780 - loss: 0.9726 - val_attrition_output_accuracy: 0.8220 - val_department_output_accuracy: 0.6229 - val_loss: 1.3883\n",
            "Epoch 56/100\n",
            "\u001b[1m30/30\u001b[0m \u001b[32m━━━━━━━━━━━━━━━━━━━━\u001b[0m\u001b[37m\u001b[0m \u001b[1m0s\u001b[0m 1ms/step - attrition_output_accuracy: 0.8889 - department_output_accuracy: 0.6894 - loss: 0.9618 - val_attrition_output_accuracy: 0.8263 - val_department_output_accuracy: 0.6229 - val_loss: 1.3773\n",
            "Epoch 57/100\n",
            "\u001b[1m30/30\u001b[0m \u001b[32m━━━━━━━━━━━━━━━━━━━━\u001b[0m\u001b[37m\u001b[0m \u001b[1m0s\u001b[0m 1ms/step - attrition_output_accuracy: 0.8906 - department_output_accuracy: 0.6816 - loss: 1.0049 - val_attrition_output_accuracy: 0.8093 - val_department_output_accuracy: 0.5593 - val_loss: 1.3584\n",
            "Epoch 58/100\n",
            "\u001b[1m30/30\u001b[0m \u001b[32m━━━━━━━━━━━━━━━━━━━━\u001b[0m\u001b[37m\u001b[0m \u001b[1m0s\u001b[0m 1ms/step - attrition_output_accuracy: 0.8879 - department_output_accuracy: 0.7115 - loss: 0.9502 - val_attrition_output_accuracy: 0.8220 - val_department_output_accuracy: 0.6059 - val_loss: 1.3679\n",
            "Epoch 59/100\n",
            "\u001b[1m30/30\u001b[0m \u001b[32m━━━━━━━━━━━━━━━━━━━━\u001b[0m\u001b[37m\u001b[0m \u001b[1m0s\u001b[0m 1ms/step - attrition_output_accuracy: 0.8891 - department_output_accuracy: 0.6654 - loss: 0.9792 - val_attrition_output_accuracy: 0.8051 - val_department_output_accuracy: 0.5847 - val_loss: 1.3964\n",
            "Epoch 60/100\n",
            "\u001b[1m30/30\u001b[0m \u001b[32m━━━━━━━━━━━━━━━━━━━━\u001b[0m\u001b[37m\u001b[0m \u001b[1m0s\u001b[0m 1ms/step - attrition_output_accuracy: 0.8627 - department_output_accuracy: 0.6939 - loss: 1.0205 - val_attrition_output_accuracy: 0.8263 - val_department_output_accuracy: 0.5720 - val_loss: 1.3841\n",
            "Epoch 61/100\n",
            "\u001b[1m30/30\u001b[0m \u001b[32m━━━━━━━━━━━━━━━━━━━━\u001b[0m\u001b[37m\u001b[0m \u001b[1m0s\u001b[0m 1ms/step - attrition_output_accuracy: 0.8973 - department_output_accuracy: 0.7039 - loss: 1.0021 - val_attrition_output_accuracy: 0.8093 - val_department_output_accuracy: 0.5847 - val_loss: 1.3757\n",
            "Epoch 62/100\n",
            "\u001b[1m30/30\u001b[0m \u001b[32m━━━━━━━━━━━━━━━━━━━━\u001b[0m\u001b[37m\u001b[0m \u001b[1m0s\u001b[0m 1ms/step - attrition_output_accuracy: 0.8873 - department_output_accuracy: 0.7032 - loss: 0.9528 - val_attrition_output_accuracy: 0.8051 - val_department_output_accuracy: 0.5678 - val_loss: 1.3908\n",
            "Epoch 63/100\n",
            "\u001b[1m30/30\u001b[0m \u001b[32m━━━━━━━━━━━━━━━━━━━━\u001b[0m\u001b[37m\u001b[0m \u001b[1m0s\u001b[0m 1ms/step - attrition_output_accuracy: 0.8927 - department_output_accuracy: 0.6744 - loss: 1.0032 - val_attrition_output_accuracy: 0.8220 - val_department_output_accuracy: 0.5975 - val_loss: 1.3712\n",
            "Epoch 64/100\n",
            "\u001b[1m30/30\u001b[0m \u001b[32m━━━━━━━━━━━━━━━━━━━━\u001b[0m\u001b[37m\u001b[0m \u001b[1m0s\u001b[0m 1ms/step - attrition_output_accuracy: 0.8929 - department_output_accuracy: 0.7165 - loss: 0.9178 - val_attrition_output_accuracy: 0.8178 - val_department_output_accuracy: 0.6229 - val_loss: 1.4147\n",
            "Epoch 65/100\n",
            "\u001b[1m30/30\u001b[0m \u001b[32m━━━━━━━━━━━━━━━━━━━━\u001b[0m\u001b[37m\u001b[0m \u001b[1m0s\u001b[0m 1ms/step - attrition_output_accuracy: 0.8971 - department_output_accuracy: 0.6767 - loss: 0.9563 - val_attrition_output_accuracy: 0.8305 - val_department_output_accuracy: 0.6271 - val_loss: 1.3954\n",
            "Epoch 66/100\n",
            "\u001b[1m30/30\u001b[0m \u001b[32m━━━━━━━━━━━━━━━━━━━━\u001b[0m\u001b[37m\u001b[0m \u001b[1m0s\u001b[0m 1ms/step - attrition_output_accuracy: 0.8752 - department_output_accuracy: 0.6880 - loss: 0.9845 - val_attrition_output_accuracy: 0.8136 - val_department_output_accuracy: 0.6144 - val_loss: 1.4233\n",
            "Epoch 67/100\n",
            "\u001b[1m30/30\u001b[0m \u001b[32m━━━━━━━━━━━━━━━━━━━━\u001b[0m\u001b[37m\u001b[0m \u001b[1m0s\u001b[0m 1ms/step - attrition_output_accuracy: 0.8914 - department_output_accuracy: 0.7000 - loss: 0.9296 - val_attrition_output_accuracy: 0.8136 - val_department_output_accuracy: 0.5890 - val_loss: 1.3896\n",
            "Epoch 68/100\n",
            "\u001b[1m30/30\u001b[0m \u001b[32m━━━━━━━━━━━━━━━━━━━━\u001b[0m\u001b[37m\u001b[0m \u001b[1m0s\u001b[0m 1ms/step - attrition_output_accuracy: 0.8877 - department_output_accuracy: 0.7082 - loss: 0.9745 - val_attrition_output_accuracy: 0.8093 - val_department_output_accuracy: 0.6102 - val_loss: 1.4299\n",
            "Epoch 69/100\n",
            "\u001b[1m30/30\u001b[0m \u001b[32m━━━━━━━━━━━━━━━━━━━━\u001b[0m\u001b[37m\u001b[0m \u001b[1m0s\u001b[0m 1ms/step - attrition_output_accuracy: 0.8760 - department_output_accuracy: 0.6674 - loss: 1.0211 - val_attrition_output_accuracy: 0.8136 - val_department_output_accuracy: 0.6102 - val_loss: 1.4798\n",
            "Epoch 70/100\n",
            "\u001b[1m30/30\u001b[0m \u001b[32m━━━━━━━━━━━━━━━━━━━━\u001b[0m\u001b[37m\u001b[0m \u001b[1m0s\u001b[0m 1ms/step - attrition_output_accuracy: 0.8706 - department_output_accuracy: 0.6838 - loss: 1.0298 - val_attrition_output_accuracy: 0.8220 - val_department_output_accuracy: 0.6059 - val_loss: 1.3873\n",
            "Epoch 71/100\n",
            "\u001b[1m30/30\u001b[0m \u001b[32m━━━━━━━━━━━━━━━━━━━━\u001b[0m\u001b[37m\u001b[0m \u001b[1m0s\u001b[0m 1ms/step - attrition_output_accuracy: 0.9020 - department_output_accuracy: 0.6977 - loss: 0.9397 - val_attrition_output_accuracy: 0.8220 - val_department_output_accuracy: 0.6059 - val_loss: 1.4417\n",
            "Epoch 72/100\n",
            "\u001b[1m30/30\u001b[0m \u001b[32m━━━━━━━━━━━━━━━━━━━━\u001b[0m\u001b[37m\u001b[0m \u001b[1m0s\u001b[0m 1ms/step - attrition_output_accuracy: 0.8886 - department_output_accuracy: 0.6767 - loss: 0.9478 - val_attrition_output_accuracy: 0.8136 - val_department_output_accuracy: 0.6229 - val_loss: 1.4987\n",
            "Epoch 73/100\n",
            "\u001b[1m30/30\u001b[0m \u001b[32m━━━━━━━━━━━━━━━━━━━━\u001b[0m\u001b[37m\u001b[0m \u001b[1m0s\u001b[0m 1ms/step - attrition_output_accuracy: 0.9007 - department_output_accuracy: 0.6899 - loss: 0.9234 - val_attrition_output_accuracy: 0.8220 - val_department_output_accuracy: 0.6059 - val_loss: 1.4450\n",
            "Epoch 74/100\n",
            "\u001b[1m30/30\u001b[0m \u001b[32m━━━━━━━━━━━━━━━━━━━━\u001b[0m\u001b[37m\u001b[0m \u001b[1m0s\u001b[0m 2ms/step - attrition_output_accuracy: 0.8973 - department_output_accuracy: 0.7112 - loss: 0.9172 - val_attrition_output_accuracy: 0.8051 - val_department_output_accuracy: 0.5890 - val_loss: 1.4569\n",
            "Epoch 75/100\n",
            "\u001b[1m30/30\u001b[0m \u001b[32m━━━━━━━━━━━━━━━━━━━━\u001b[0m\u001b[37m\u001b[0m \u001b[1m0s\u001b[0m 1ms/step - attrition_output_accuracy: 0.8994 - department_output_accuracy: 0.7164 - loss: 0.9024 - val_attrition_output_accuracy: 0.8220 - val_department_output_accuracy: 0.5424 - val_loss: 1.4295\n",
            "Epoch 76/100\n",
            "\u001b[1m30/30\u001b[0m \u001b[32m━━━━━━━━━━━━━━━━━━━━\u001b[0m\u001b[37m\u001b[0m \u001b[1m0s\u001b[0m 1ms/step - attrition_output_accuracy: 0.9078 - department_output_accuracy: 0.6726 - loss: 0.9248 - val_attrition_output_accuracy: 0.8178 - val_department_output_accuracy: 0.5678 - val_loss: 1.4348\n",
            "Epoch 77/100\n",
            "\u001b[1m30/30\u001b[0m \u001b[32m━━━━━━━━━━━━━━━━━━━━\u001b[0m\u001b[37m\u001b[0m \u001b[1m0s\u001b[0m 1ms/step - attrition_output_accuracy: 0.8903 - department_output_accuracy: 0.7025 - loss: 0.9068 - val_attrition_output_accuracy: 0.8051 - val_department_output_accuracy: 0.6102 - val_loss: 1.4750\n",
            "Epoch 78/100\n",
            "\u001b[1m30/30\u001b[0m \u001b[32m━━━━━━━━━━━━━━━━━━━━\u001b[0m\u001b[37m\u001b[0m \u001b[1m0s\u001b[0m 1ms/step - attrition_output_accuracy: 0.9095 - department_output_accuracy: 0.6977 - loss: 0.9102 - val_attrition_output_accuracy: 0.8136 - val_department_output_accuracy: 0.5763 - val_loss: 1.4406\n",
            "Epoch 79/100\n",
            "\u001b[1m30/30\u001b[0m \u001b[32m━━━━━━━━━━━━━━━━━━━━\u001b[0m\u001b[37m\u001b[0m \u001b[1m0s\u001b[0m 2ms/step - attrition_output_accuracy: 0.8910 - department_output_accuracy: 0.6849 - loss: 0.9098 - val_attrition_output_accuracy: 0.8220 - val_department_output_accuracy: 0.5975 - val_loss: 1.4940\n",
            "Epoch 80/100\n",
            "\u001b[1m30/30\u001b[0m \u001b[32m━━━━━━━━━━━━━━━━━━━━\u001b[0m\u001b[37m\u001b[0m \u001b[1m0s\u001b[0m 1ms/step - attrition_output_accuracy: 0.8949 - department_output_accuracy: 0.7026 - loss: 0.8797 - val_attrition_output_accuracy: 0.8263 - val_department_output_accuracy: 0.6059 - val_loss: 1.4667\n",
            "Epoch 81/100\n",
            "\u001b[1m30/30\u001b[0m \u001b[32m━━━━━━━━━━━━━━━━━━━━\u001b[0m\u001b[37m\u001b[0m \u001b[1m0s\u001b[0m 1ms/step - attrition_output_accuracy: 0.9028 - department_output_accuracy: 0.7078 - loss: 0.9060 - val_attrition_output_accuracy: 0.8263 - val_department_output_accuracy: 0.5508 - val_loss: 1.4828\n",
            "Epoch 82/100\n",
            "\u001b[1m30/30\u001b[0m \u001b[32m━━━━━━━━━━━━━━━━━━━━\u001b[0m\u001b[37m\u001b[0m \u001b[1m0s\u001b[0m 1ms/step - attrition_output_accuracy: 0.8944 - department_output_accuracy: 0.6963 - loss: 0.9227 - val_attrition_output_accuracy: 0.8093 - val_department_output_accuracy: 0.5339 - val_loss: 1.5117\n",
            "Epoch 83/100\n",
            "\u001b[1m30/30\u001b[0m \u001b[32m━━━━━━━━━━━━━━━━━━━━\u001b[0m\u001b[37m\u001b[0m \u001b[1m0s\u001b[0m 1ms/step - attrition_output_accuracy: 0.9110 - department_output_accuracy: 0.7268 - loss: 0.8673 - val_attrition_output_accuracy: 0.8136 - val_department_output_accuracy: 0.5508 - val_loss: 1.4936\n",
            "Epoch 84/100\n",
            "\u001b[1m30/30\u001b[0m \u001b[32m━━━━━━━━━━━━━━━━━━━━\u001b[0m\u001b[37m\u001b[0m \u001b[1m0s\u001b[0m 1ms/step - attrition_output_accuracy: 0.8858 - department_output_accuracy: 0.7233 - loss: 0.9148 - val_attrition_output_accuracy: 0.8051 - val_department_output_accuracy: 0.6017 - val_loss: 1.5033\n",
            "Epoch 85/100\n",
            "\u001b[1m30/30\u001b[0m \u001b[32m━━━━━━━━━━━━━━━━━━━━\u001b[0m\u001b[37m\u001b[0m \u001b[1m0s\u001b[0m 1ms/step - attrition_output_accuracy: 0.9215 - department_output_accuracy: 0.7152 - loss: 0.8421 - val_attrition_output_accuracy: 0.8136 - val_department_output_accuracy: 0.5297 - val_loss: 1.4974\n",
            "Epoch 86/100\n",
            "\u001b[1m30/30\u001b[0m \u001b[32m━━━━━━━━━━━━━━━━━━━━\u001b[0m\u001b[37m\u001b[0m \u001b[1m0s\u001b[0m 1ms/step - attrition_output_accuracy: 0.9083 - department_output_accuracy: 0.7206 - loss: 0.8652 - val_attrition_output_accuracy: 0.8093 - val_department_output_accuracy: 0.5847 - val_loss: 1.5646\n",
            "Epoch 87/100\n",
            "\u001b[1m30/30\u001b[0m \u001b[32m━━━━━━━━━━━━━━━━━━━━\u001b[0m\u001b[37m\u001b[0m \u001b[1m0s\u001b[0m 1ms/step - attrition_output_accuracy: 0.9090 - department_output_accuracy: 0.7032 - loss: 0.9040 - val_attrition_output_accuracy: 0.8136 - val_department_output_accuracy: 0.5847 - val_loss: 1.5038\n",
            "Epoch 88/100\n",
            "\u001b[1m30/30\u001b[0m \u001b[32m━━━━━━━━━━━━━━━━━━━━\u001b[0m\u001b[37m\u001b[0m \u001b[1m0s\u001b[0m 1ms/step - attrition_output_accuracy: 0.8998 - department_output_accuracy: 0.6895 - loss: 0.9020 - val_attrition_output_accuracy: 0.8093 - val_department_output_accuracy: 0.5932 - val_loss: 1.5549\n",
            "Epoch 89/100\n",
            "\u001b[1m30/30\u001b[0m \u001b[32m━━━━━━━━━━━━━━━━━━━━\u001b[0m\u001b[37m\u001b[0m \u001b[1m0s\u001b[0m 1ms/step - attrition_output_accuracy: 0.9015 - department_output_accuracy: 0.7354 - loss: 0.8776 - val_attrition_output_accuracy: 0.8093 - val_department_output_accuracy: 0.5805 - val_loss: 1.5468\n",
            "Epoch 90/100\n",
            "\u001b[1m30/30\u001b[0m \u001b[32m━━━━━━━━━━━━━━━━━━━━\u001b[0m\u001b[37m\u001b[0m \u001b[1m0s\u001b[0m 1ms/step - attrition_output_accuracy: 0.8932 - department_output_accuracy: 0.7385 - loss: 0.8735 - val_attrition_output_accuracy: 0.8093 - val_department_output_accuracy: 0.5847 - val_loss: 1.5087\n",
            "Epoch 91/100\n",
            "\u001b[1m30/30\u001b[0m \u001b[32m━━━━━━━━━━━━━━━━━━━━\u001b[0m\u001b[37m\u001b[0m \u001b[1m0s\u001b[0m 1ms/step - attrition_output_accuracy: 0.9100 - department_output_accuracy: 0.7220 - loss: 0.8557 - val_attrition_output_accuracy: 0.8093 - val_department_output_accuracy: 0.5847 - val_loss: 1.5237\n",
            "Epoch 92/100\n",
            "\u001b[1m30/30\u001b[0m \u001b[32m━━━━━━━━━━━━━━━━━━━━\u001b[0m\u001b[37m\u001b[0m \u001b[1m0s\u001b[0m 1ms/step - attrition_output_accuracy: 0.9023 - department_output_accuracy: 0.7137 - loss: 0.8588 - val_attrition_output_accuracy: 0.8008 - val_department_output_accuracy: 0.5932 - val_loss: 1.6277\n",
            "Epoch 93/100\n",
            "\u001b[1m30/30\u001b[0m \u001b[32m━━━━━━━━━━━━━━━━━━━━\u001b[0m\u001b[37m\u001b[0m \u001b[1m0s\u001b[0m 1ms/step - attrition_output_accuracy: 0.9095 - department_output_accuracy: 0.6965 - loss: 0.8857 - val_attrition_output_accuracy: 0.8136 - val_department_output_accuracy: 0.5847 - val_loss: 1.5520\n",
            "Epoch 94/100\n",
            "\u001b[1m30/30\u001b[0m \u001b[32m━━━━━━━━━━━━━━━━━━━━\u001b[0m\u001b[37m\u001b[0m \u001b[1m0s\u001b[0m 2ms/step - attrition_output_accuracy: 0.9210 - department_output_accuracy: 0.7310 - loss: 0.8246 - val_attrition_output_accuracy: 0.8093 - val_department_output_accuracy: 0.5763 - val_loss: 1.5652\n",
            "Epoch 95/100\n",
            "\u001b[1m30/30\u001b[0m \u001b[32m━━━━━━━━━━━━━━━━━━━━\u001b[0m\u001b[37m\u001b[0m \u001b[1m0s\u001b[0m 1ms/step - attrition_output_accuracy: 0.9200 - department_output_accuracy: 0.7489 - loss: 0.7814 - val_attrition_output_accuracy: 0.8178 - val_department_output_accuracy: 0.5593 - val_loss: 1.5648\n",
            "Epoch 96/100\n",
            "\u001b[1m30/30\u001b[0m \u001b[32m━━━━━━━━━━━━━━━━━━━━\u001b[0m\u001b[37m\u001b[0m \u001b[1m0s\u001b[0m 1ms/step - attrition_output_accuracy: 0.9075 - department_output_accuracy: 0.7444 - loss: 0.8332 - val_attrition_output_accuracy: 0.8136 - val_department_output_accuracy: 0.5678 - val_loss: 1.5687\n",
            "Epoch 97/100\n",
            "\u001b[1m30/30\u001b[0m \u001b[32m━━━━━━━━━━━━━━━━━━━━\u001b[0m\u001b[37m\u001b[0m \u001b[1m0s\u001b[0m 1ms/step - attrition_output_accuracy: 0.9154 - department_output_accuracy: 0.7588 - loss: 0.8136 - val_attrition_output_accuracy: 0.8093 - val_department_output_accuracy: 0.5720 - val_loss: 1.6207\n",
            "Epoch 98/100\n",
            "\u001b[1m30/30\u001b[0m \u001b[32m━━━━━━━━━━━━━━━━━━━━\u001b[0m\u001b[37m\u001b[0m \u001b[1m0s\u001b[0m 1ms/step - attrition_output_accuracy: 0.9039 - department_output_accuracy: 0.7322 - loss: 0.8295 - val_attrition_output_accuracy: 0.8178 - val_department_output_accuracy: 0.5466 - val_loss: 1.5705\n",
            "Epoch 99/100\n",
            "\u001b[1m30/30\u001b[0m \u001b[32m━━━━━━━━━━━━━━━━━━━━\u001b[0m\u001b[37m\u001b[0m \u001b[1m0s\u001b[0m 1ms/step - attrition_output_accuracy: 0.9056 - department_output_accuracy: 0.7045 - loss: 0.8549 - val_attrition_output_accuracy: 0.8220 - val_department_output_accuracy: 0.6144 - val_loss: 1.6687\n",
            "Epoch 100/100\n",
            "\u001b[1m30/30\u001b[0m \u001b[32m━━━━━━━━━━━━━━━━━━━━\u001b[0m\u001b[37m\u001b[0m \u001b[1m0s\u001b[0m 1ms/step - attrition_output_accuracy: 0.9012 - department_output_accuracy: 0.7512 - loss: 0.8384 - val_attrition_output_accuracy: 0.8093 - val_department_output_accuracy: 0.5847 - val_loss: 1.6054\n"
          ]
        },
        {
          "data": {
            "text/plain": [
              "<keras.src.callbacks.history.History at 0x17f56e44740>"
            ]
          },
          "execution_count": 159,
          "metadata": {},
          "output_type": "execute_result"
        }
      ],
      "source": [
        "# Train the model\n",
        "\n",
        "model.fit(\n",
        "    X_train,\n",
        "    {\n",
        "        'department_output': y_train_department.values, \n",
        "        'attrition_output': y_train_attrition.values\n",
        "    },\n",
        "    epochs=100,  # You can adjust the number of epochs based on your needs\n",
        "    batch_size=32,  # You can adjust the batch size based on your available memory\n",
        "    validation_split=0.2  # You can specify the validation split if you have a separate validation set\n",
        ")\n"
      ]
    },
    {
      "cell_type": "code",
      "execution_count": 162,
      "metadata": {
        "colab": {
          "base_uri": "https://localhost:8080/"
        },
        "id": "VsMoaQlgGc3U",
        "outputId": "1bd4e601-e964-4abc-ad83-aeecf6b696be"
      },
      "outputs": [
        {
          "name": "stdout",
          "output_type": "stream",
          "text": [
            "\u001b[1m10/10\u001b[0m \u001b[32m━━━━━━━━━━━━━━━━━━━━\u001b[0m\u001b[37m\u001b[0m \u001b[1m0s\u001b[0m 556us/step - attrition_output_accuracy: 0.8614 - department_output_accuracy: 0.5776 - loss: 1.3951\n"
          ]
        }
      ],
      "source": [
        "# Evaluate the model with the testing data\n",
        "results = model.evaluate(\n",
        "    np.array(X_test),\n",
        "    {\n",
        "        'department_output': y_test_department.values, \n",
        "        'attrition_output': y_test_attrition.values\n",
        "    }\n",
        ")\n"
      ]
    },
    {
      "cell_type": "code",
      "execution_count": 163,
      "metadata": {
        "colab": {
          "base_uri": "https://localhost:8080/"
        },
        "id": "ZlCtlHi0Vt54",
        "outputId": "bc21ef3e-80c2-4b38-9c29-79515bc23dec"
      },
      "outputs": [
        {
          "name": "stdout",
          "output_type": "stream",
          "text": [
            "Department accuracy: 0.5918367505073547\n",
            "Attrition accuracy: 0.8605442047119141\n"
          ]
        }
      ],
      "source": [
        "# Print the accuracy for both department and attrition\n",
        "print(f\"Department accuracy: {results[2]}\")\n",
        "print(f\"Attrition accuracy: {results[1]}\")"
      ]
    },
    {
      "cell_type": "markdown",
      "metadata": {
        "id": "eGSyfsZfWOQM"
      },
      "source": [
        "# Summary\n",
        "\n",
        "In the provided space below, briefly answer the following questions.\n",
        "\n",
        "1. Is accuracy the best metric to use on this data? Why or why not?\n",
        "\n",
        "2. What activation functions did you choose for your output layers, and why?\n",
        "\n",
        "3. Can you name a few ways that this model might be improved?"
      ]
    },
    {
      "cell_type": "markdown",
      "metadata": {
        "id": "pi9SLpFnWvbF"
      },
      "source": [
        "YOUR ANSWERS HERE\n",
        "\n",
        "1. \n",
        "\n",
        "Because the classification data set for 'Department' is imbalanced, as \"Human Resources\" values are disproportaionaly low. Hence the accuracy of the set may not be the best metric to use on this data. Precision and Recall and F1 scores would likely be the better option as it will give specific insights on how the model performs on each possible classification value.\n",
        "\n",
        "2. \n",
        "\n",
        "Sigmoid Activation for Attrition (Yes/No):\n",
        "\n",
        "Reason: The sigmoid function outputs a probability between 0 and 1, making it suitable for binary classification. This fits well for a task like predicting whether attrition will occur (Yes/No). The single output neuron with sigmoid activation provides the probability of the positive class.\n",
        "\n",
        "Softmax Activation for Department (3 Output Possibilities):\n",
        "\n",
        "Reason: The softmax function is used when you have multiple classes and want the model to output probabilities for each class. It converts raw scores into a probability distribution over the classes. This is suitable for predicting multi class problems.\n",
        "\n",
        "3. \n",
        "\n",
        "Some possiblities to improve the model:\n",
        "\n",
        "Hyperparameter Tuning: Adjusting hyperparameters like learning rate, batch size, and network architecture improves model performance by finding the optimal settings. Proper tuning balances overfitting and underfitting, leading to better generalization on new data.\n",
        "\n",
        "Feature Engineering: This involves creating or modifying features to provide more useful information to the model. By adding relevant features or selecting the most important ones, you enhance the model’s ability to make accurate predictions and reduce noise.\n",
        "\n",
        "Data Augmentation: Generating additional training samples through transformations or synthetic data increases the dataset size and diversity. This helps the model learn more robust features and addresses issues like class imbalance, leading to improved generalization.\n"
      ]
    },
    {
      "cell_type": "markdown",
      "metadata": {},
      "source": []
    }
  ],
  "metadata": {
    "colab": {
      "provenance": []
    },
    "kernelspec": {
      "display_name": "Python 3",
      "language": "python",
      "name": "python3"
    },
    "language_info": {
      "codemirror_mode": {
        "name": "ipython",
        "version": 3
      },
      "file_extension": ".py",
      "mimetype": "text/x-python",
      "name": "python",
      "nbconvert_exporter": "python",
      "pygments_lexer": "ipython3",
      "version": "3.12.0"
    },
    "vscode": {
      "interpreter": {
        "hash": "31f2aee4e71d21fbe5cf8b01ff0e069b9275f58929596ceb00d14d90e3e16cd6"
      }
    }
  },
  "nbformat": 4,
  "nbformat_minor": 0
}
